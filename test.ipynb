{
 "cells": [
  {
   "cell_type": "code",
   "execution_count": 2,
   "metadata": {},
   "outputs": [],
   "source": [
    "\n",
    "import inspect\n",
    "from langchain_core.messages import HumanMessage, SystemMessage\n",
    "from langchain_anthropic import ChatAnthropic\n",
    "from langgraph.prebuilt import create_react_agent\n",
    "from tools_utility import list_tools as common_tools_list\n",
    "from ore_xml_tools import list_ore_tools as ore_xml_tools_list\n",
    "from sensitivity_xml_tools import list_sensitivity_tools as sensitivity_xml_tool_list\n",
    "from react_agent_system_prompts import *\n",
    "\n",
    "import getpass\n",
    "import os\n",
    "import shutil\n",
    "\n",
    "\n",
    "def copy_directory(src_dir):\n",
    "    dst_dir= os.path.basename(src_dir)+'new'\n",
    "    dst_dir = os.path.join(os.path.dirname(src_dir), dst_dir)\n",
    "\n",
    "    if not os.path.exists(dst_dir):\n",
    "        os.makedirs(dst_dir)\n",
    "    for item in os.listdir(src_dir):\n",
    "        s = os.path.join(src_dir, item)\n",
    "        d = os.path.join(dst_dir, item)\n",
    "        shutil.copy2(s, d)\n",
    "\n",
    "def _set_env(var: str):\n",
    "    if not os.environ.get(var):\n",
    "        os.environ[var] = getpass.getpass(f\"{var}: \")\n",
    "\n",
    "def print_stream(stream):\n",
    "    for s in stream:\n",
    "        message = s[\"messages\"][-1]\n",
    "        if isinstance(message, tuple):\n",
    "            print(message)\n",
    "        else:\n",
    "            message.pretty_print()\n",
    "\n",
    "_set_env(\"ANTHROPIC_API_KEY\")\n",
    "\n",
    "\n"
   ]
  },
  {
   "cell_type": "code",
   "execution_count": 8,
   "metadata": {},
   "outputs": [],
   "source": [
    "filepath = r'D:\\Project_H\\Examples\\Example_1\\Inputnew'\n",
    "# all_tools_list_ore_xml = ore_xml_tools_list + common_tools_list\n",
    "\n",
    "\n",
    "\n",
    "# llm = ChatAnthropic(\n",
    "#     model=\"claude-3-5-haiku-latest\",\n",
    "#     temperature=0,\n",
    "#     timeout=None,\n",
    "#     max_retries=2,\n",
    "#     # other params...\n",
    "# )\n",
    " \n",
    "# ore_agent = create_react_agent(llm,\n",
    "#     tools = all_tools_list_ore_xml,\n",
    "# )\n",
    "\n",
    "from ore_agent import ore_agent_node, ore_agent\n",
    "from config_file import f_path, file_location_prompt\n",
    "\n",
    "input_messages = {'messages': [SystemMessage(file_location_prompt),HumanMessage(content=\"please remove xva analytic from the ore.xml file.\")]}\n",
    "\n",
    "test = ore_agent.invoke(input_messages)\n",
    "\n",
    "\n"
   ]
  },
  {
   "cell_type": "code",
   "execution_count": 9,
   "metadata": {},
   "outputs": [
    {
     "data": {
      "text/plain": [
       "{'messages': [SystemMessage(content='files are saved at D:\\\\Project_H\\\\Examples\\\\Example_1\\\\Inputnew \\n\\n file path arguments to the function calls should always contain absolute paths.', additional_kwargs={}, response_metadata={}, id='57d3cd89-b906-4126-84d7-fd00852bbc3a'),\n",
       "  HumanMessage(content='please remove xva analytic from the ore.xml file.', additional_kwargs={}, response_metadata={}, id='a88ac420-d112-48ad-9db7-d5bfc0f80f6b'),\n",
       "  AIMessage(content=[{'text': \"I'll help you remove the XVA analytic from the ore.xml file. I'll use the `remove_analytic` function to do this. I'll use the full absolute path to the ore.xml file.\", 'type': 'text'}, {'id': 'toolu_013QgNxE5JDRFGqZyqty1jFf', 'input': {'root_path': 'D:\\\\Project_H\\\\Examples\\\\Example_1\\\\Inputnew\\\\ore.xml', 'analytic_type': 'xva'}, 'name': 'remove_analytic', 'type': 'tool_use'}], additional_kwargs={}, response_metadata={'id': 'msg_014amfJvktUWmAn8bbuX7CZ1', 'model': 'claude-3-5-haiku-20241022', 'stop_reason': 'tool_use', 'stop_sequence': None, 'usage': {'cache_creation_input_tokens': 0, 'cache_read_input_tokens': 0, 'input_tokens': 2465, 'output_tokens': 144}, 'model_name': 'claude-3-5-haiku-20241022'}, id='run-39db47b9-5f93-489f-b63a-fc6ba719d788-0', tool_calls=[{'name': 'remove_analytic', 'args': {'root_path': 'D:\\\\Project_H\\\\Examples\\\\Example_1\\\\Inputnew\\\\ore.xml', 'analytic_type': 'xva'}, 'id': 'toolu_013QgNxE5JDRFGqZyqty1jFf', 'type': 'tool_call'}], usage_metadata={'input_tokens': 2465, 'output_tokens': 144, 'total_tokens': 2609, 'input_token_details': {'cache_read': 0, 'cache_creation': 0}}),\n",
       "  ToolMessage(content=\"Removed analytic 'xva'. saved results to D:\\\\Project_H\\\\Examples\\\\Example_1\\\\Inputnew\\\\ore.xml\", name='remove_analytic', id='700e516d-a0a3-4efd-8c5f-be6c21133ac8', tool_call_id='toolu_013QgNxE5JDRFGqZyqty1jFf'),\n",
       "  AIMessage(content='The XVA analytic has been successfully removed from the ore.xml file. Is there anything else you would like me to do?', additional_kwargs={}, response_metadata={'id': 'msg_015iQq7gTCmydMHi6xCzD2Ym', 'model': 'claude-3-5-haiku-20241022', 'stop_reason': 'end_turn', 'stop_sequence': None, 'usage': {'cache_creation_input_tokens': 0, 'cache_read_input_tokens': 0, 'input_tokens': 2652, 'output_tokens': 32}, 'model_name': 'claude-3-5-haiku-20241022'}, id='run-33eb4cca-227e-489f-a7b0-2fe4b572c9db-0', usage_metadata={'input_tokens': 2652, 'output_tokens': 32, 'total_tokens': 2684, 'input_token_details': {'cache_read': 0, 'cache_creation': 0}})]}"
      ]
     },
     "execution_count": 9,
     "metadata": {},
     "output_type": "execute_result"
    }
   ],
   "source": [
    "test"
   ]
  },
  {
   "cell_type": "code",
   "execution_count": 5,
   "metadata": {},
   "outputs": [
    {
     "data": {
      "text/plain": [
       "{'messages': [HumanMessage(content='please remove exposure analytic from the ore.xml file.', additional_kwargs={}, response_metadata={}, id='5deae806-4ce0-4cf3-ac06-c9b97bb999dc'),\n",
       "  AIMessage(content=[{'text': 'I apologize, but there is no \"exposure\" analytic type in the list of available analytics for the ore.xml file. The available analytic types are:\\n- npv\\n- cashflow\\n- curves\\n- simulation\\n- xva\\n- sensitivity\\n- stress\\n- parametricVar\\n- historicalSimulationVar\\n- simm\\n- imschedule\\n- zeroToParSensiConversion\\n\\nWould you like me to remove one of these existing analytics instead? If you\\'re certain about removing an \"exposure\" analytic, I can seek advice on this specific query.', 'type': 'text'}, {'id': 'toolu_01YU6ajBaGvEQsKYtoEktSrW', 'input': {}, 'name': 'list_analytics', 'type': 'tool_use'}], additional_kwargs={}, response_metadata={'id': 'msg_01HK4DKRApUv3UHK7LsxMBdu', 'model': 'claude-3-5-haiku-20241022', 'stop_reason': 'tool_use', 'stop_sequence': None, 'usage': {'cache_creation_input_tokens': 0, 'cache_read_input_tokens': 0, 'input_tokens': 2427, 'output_tokens': 165}, 'model_name': 'claude-3-5-haiku-20241022'}, id='run-a73d35b6-bf2e-451e-b3e6-0f69ad75c0d8-0', tool_calls=[{'name': 'list_analytics', 'args': {}, 'id': 'toolu_01YU6ajBaGvEQsKYtoEktSrW', 'type': 'tool_call'}], usage_metadata={'input_tokens': 2427, 'output_tokens': 165, 'total_tokens': 2592, 'input_token_details': {'cache_read': 0, 'cache_creation': 0}}),\n",
       "  ToolMessage(content=\"Error: TypeError('expected str, bytes or os.PathLike object, not NoneType')\\n Please fix your mistakes.\", name='list_analytics', id='1f2b2efc-0cc8-4257-b771-bffbc2c073d7', tool_call_id='toolu_01YU6ajBaGvEQsKYtoEktSrW', status='error'),\n",
       "  AIMessage(content='I apologize for the error. It seems I need to specify a path to the ore.xml file. Could you provide the full path to the ore.xml file you want me to modify? Without the specific file path, I cannot perform the operation.', additional_kwargs={}, response_metadata={'id': 'msg_01EPcgVLCinCHAhVX79Q4GxF', 'model': 'claude-3-5-haiku-20241022', 'stop_reason': 'end_turn', 'stop_sequence': None, 'usage': {'cache_creation_input_tokens': 0, 'cache_read_input_tokens': 0, 'input_tokens': 2638, 'output_tokens': 56}, 'model_name': 'claude-3-5-haiku-20241022'}, id='run-0510d74d-25a7-40b1-8dc2-e203178b226d-0', usage_metadata={'input_tokens': 2638, 'output_tokens': 56, 'total_tokens': 2694, 'input_token_details': {'cache_read': 0, 'cache_creation': 0}})]}"
      ]
     },
     "execution_count": 5,
     "metadata": {},
     "output_type": "execute_result"
    }
   ],
   "source": [
    "test"
   ]
  },
  {
   "cell_type": "code",
   "execution_count": 5,
   "metadata": {},
   "outputs": [
    {
     "data": {
      "text/plain": [
       "'npv, cashflow, curves, simulation, xva'"
      ]
     },
     "execution_count": 5,
     "metadata": {},
     "output_type": "execute_result"
    }
   ],
   "source": [
    "\n",
    "from ore_xml_tools import *\n",
    "\n",
    "list_analytics(os.path.join(f_path,'ore.xml'))\n"
   ]
  },
  {
   "cell_type": "code",
   "execution_count": 3,
   "metadata": {},
   "outputs": [],
   "source": [
    "copy_directory(r'D:\\\\Project_H\\\\Examples\\\\Example_24\\\\Input')"
   ]
  },
  {
   "cell_type": "code",
   "execution_count": 3,
   "metadata": {},
   "outputs": [],
   "source": [
    "f_path = r'D:\\\\Project_H\\\\Examples\\\\Example_24\\\\Inputnew'\n",
    "file_location = f\"files are saved at {f_path} \\n\\n file path arguments to the function calls should always contain absolute paths.\"\n",
    "input_messages = {'messages': [SystemMessage(content=sensitivity_agent_system_prompt_content), SystemMessage(content=file_location), HumanMessage(content=\"please shock EUR discounting curve by 2% for 5Y and 6% for 10Y tenor point.\")]}\n",
    "\n",
    "llm = ChatAnthropic(\n",
    "    model=\"claude-3-5-haiku-latest\",\n",
    "    temperature=0,\n",
    "    timeout=None,\n",
    "    max_retries=2,\n",
    "    # other params...\n",
    ")\n",
    "\n",
    "all_tools_sensitivity_xml = common_tools_list + sensitivity_xml_tool_list\n",
    "sensitivity_agent = create_react_agent(llm,\n",
    "    tools = all_tools_sensitivity_xml,\n",
    ")\n",
    "\n",
    "test = sensitivity_agent.stream(input_messages, stream_mode=\"values\")"
   ]
  },
  {
   "cell_type": "code",
   "execution_count": 3,
   "metadata": {},
   "outputs": [],
   "source": [
    "from ore_execution_agent import ore_execution_agent\n",
    "from react_agent_system_prompts import ore_execution_agent_system_prompt_content\n",
    "from config_file import file_location_prompt\n",
    "test = ore_execution_agent.invoke({'messages': [SystemMessage(content=ore_execution_agent_system_prompt_content),SystemMessage(content=file_location_prompt)] + [HumanMessage(content=\"run ore with ore.xml\")]})"
   ]
  },
  {
   "cell_type": "code",
   "execution_count": 4,
   "metadata": {},
   "outputs": [
    {
     "data": {
      "text/plain": [
       "{'messages': [SystemMessage(content='\\nYou are a react agent that can trigger runs with ORE which is an executable file for ORE (Open Source Risk Engine).\\nYou have tools that can help you run the ORE executable file.\\n', additional_kwargs={}, response_metadata={}, id='34e67aa5-897a-4e24-abf6-580477e903e0'),\n",
       "  SystemMessage(content='files are saved at D:\\\\Project_H\\\\Examples\\\\Example_1\\\\Inputnew \\n\\n file path arguments to the function calls should always contain absolute paths.', additional_kwargs={}, response_metadata={}, id='a95457d6-5eab-47ce-8e65-0c308a26ce24'),\n",
       "  HumanMessage(content='run ore with ore.xml', additional_kwargs={}, response_metadata={}, id='66194d8f-8a68-4948-b2aa-f98a333c0057'),\n",
       "  AIMessage(content=[{'text': \"I'll help you run the ORE model using the ore.xml file. I'll use the absolute file path for the ore.xml file in the specified directory.\", 'type': 'text'}, {'id': 'toolu_019Sp9NG3bNXrJgRXkyF7VCY', 'input': {'file_path': 'D:\\\\Project_H\\\\Examples\\\\Example_1\\\\Inputnew\\\\ore.xml'}, 'name': 'run_ore', 'type': 'tool_use'}], additional_kwargs={}, response_metadata={'id': 'msg_016S6Tw4K8vBeY7vaSkP9iBh', 'model': 'claude-3-5-haiku-20241022', 'stop_reason': 'tool_use', 'stop_sequence': None, 'usage': {'cache_creation_input_tokens': 0, 'cache_read_input_tokens': 0, 'input_tokens': 620, 'output_tokens': 110}, 'model_name': 'claude-3-5-haiku-20241022'}, id='run-51d1516c-0459-438e-adc4-6b6e9efba7c0-0', tool_calls=[{'name': 'run_ore', 'args': {'file_path': 'D:\\\\Project_H\\\\Examples\\\\Example_1\\\\Inputnew\\\\ore.xml'}, 'id': 'toolu_019Sp9NG3bNXrJgRXkyF7VCY', 'type': 'tool_call'}], usage_metadata={'input_tokens': 620, 'output_tokens': 110, 'total_tokens': 730, 'input_token_details': {'cache_read': 0, 'cache_creation': 0}}),\n",
       "  ToolMessage(content='Error executing ORE model: Error opening file Output/D:\\\\Project_H\\\\Examples\\\\Example_1\\\\Inputnew\\\\log.txt', name='run_ore', id='43016fb8-ff5f-4ce0-8666-e9386ee4e9a7', tool_call_id='toolu_019Sp9NG3bNXrJgRXkyF7VCY'),\n",
       "  AIMessage(content=[{'text': 'I noticed there was an error when trying to run the ORE model. This could be due to issues with the output directory or file permissions. Let me check the available reports to see if we can get more information:', 'type': 'text'}, {'id': 'toolu_01GGeTQwNqfoo6BVp1vvFKGR', 'input': {'file_path': 'D:\\\\Project_H\\\\Examples\\\\Example_1\\\\Inputnew\\\\ore.xml'}, 'name': 'get_ore_report_list', 'type': 'tool_use'}], additional_kwargs={}, response_metadata={'id': 'msg_01Fx3f5Ju4mzFYDdVmghPw9X', 'model': 'claude-3-5-haiku-20241022', 'stop_reason': 'tool_use', 'stop_sequence': None, 'usage': {'cache_creation_input_tokens': 0, 'cache_read_input_tokens': 0, 'input_tokens': 773, 'output_tokens': 125}, 'model_name': 'claude-3-5-haiku-20241022'}, id='run-1c16d2ba-c1c0-4607-8e12-4d891bf1d495-0', tool_calls=[{'name': 'get_ore_report_list', 'args': {'file_path': 'D:\\\\Project_H\\\\Examples\\\\Example_1\\\\Inputnew\\\\ore.xml'}, 'id': 'toolu_01GGeTQwNqfoo6BVp1vvFKGR', 'type': 'tool_call'}], usage_metadata={'input_tokens': 773, 'output_tokens': 125, 'total_tokens': 898, 'input_token_details': {'cache_read': 0, 'cache_creation': 0}}),\n",
       "  ToolMessage(content='Error getting report list: analyticsManager_ not set yet, call analytics first', name='get_ore_report_list', id='913dfb35-5ae1-439e-ac0a-a8a2fbfb8711', tool_call_id='toolu_01GGeTQwNqfoo6BVp1vvFKGR'),\n",
       "  AIMessage(content=\"It seems there might be an issue with the ORE configuration or the XML file. The error suggests that the analytics manager hasn't been set up before attempting to get the report list. \\n\\nCould you please:\\n1. Verify that the ore.xml file is correctly configured\\n2. Check if there are any specific settings or prerequisites needed before running the ORE model\\n3. Ensure that the Output directory exists and has the necessary write permissions\\n\\nWould you like me to help you troubleshoot the ORE model configuration?\", additional_kwargs={}, response_metadata={'id': 'msg_01XYnJDe87NsPjAetvxJSqAP', 'model': 'claude-3-5-haiku-20241022', 'stop_reason': 'end_turn', 'stop_sequence': None, 'usage': {'cache_creation_input_tokens': 0, 'cache_read_input_tokens': 0, 'input_tokens': 925, 'output_tokens': 116}, 'model_name': 'claude-3-5-haiku-20241022'}, id='run-9d325101-a782-4f34-a794-2e733d24ccc8-0', usage_metadata={'input_tokens': 925, 'output_tokens': 116, 'total_tokens': 1041, 'input_token_details': {'cache_read': 0, 'cache_creation': 0}})]}"
      ]
     },
     "execution_count": 4,
     "metadata": {},
     "output_type": "execute_result"
    }
   ],
   "source": [
    "test\n"
   ]
  },
  {
   "cell_type": "code",
   "execution_count": 8,
   "metadata": {},
   "outputs": [
    {
     "name": "stdout",
     "output_type": "stream",
     "text": [
      "<ORE>\n",
      "  <Setup>\n",
      "    <Parameter name=\"asofDate\">2016-02-05</Parameter>\n",
      "    <Parameter name=\"inputPath\">Input</Parameter>\n",
      "    <Parameter name=\"outputPath\">Output</Parameter>\n",
      "    <Parameter name=\"logFile\">D:\\Project_H\\Examples\\Example_1\\Inputnew\\log.txt</Parameter>\n",
      "    <Parameter name=\"logMask\">31</Parameter>\n",
      "    <Parameter name=\"marketDataFile\">D:\\Project_H\\Examples\\Example_1\\Inputnew\\market_20160205_flat.txt</Parameter>\n",
      "    <Parameter name=\"fixingDataFile\">D:\\Project_H\\Examples\\Example_1\\Inputnew\\fixings_20160205.txt</Parameter>\n",
      "    <Parameter name=\"implyTodaysFixings\">Y</Parameter>\n",
      "    <Parameter name=\"curveConfigFile\">D:\\Project_H\\Examples\\Example_1\\Inputnew\\curveconfig.xml</Parameter>\n",
      "    <Parameter name=\"conventionsFile\">D:\\Project_H\\Examples\\Example_1\\Inputnew\\conventions.xml</Parameter>\n",
      "    <Parameter name=\"marketConfigFile\">D:\\Project_H\\Examples\\Example_1\\Inputnew\\todaysmarket.xml</Parameter>\n",
      "    <Parameter name=\"pricingEnginesFile\">D:\\Project_H\\Examples\\Example_1\\Inputnew\\pricingengine.xml</Parameter>\n",
      "    <Parameter name=\"portfolioFile\">D:\\Project_H\\Examples\\Example_1\\Inputnew\\portfolio_swap.xml</Parameter>\n",
      "    <Parameter name=\"observationModel\">None</Parameter>\n",
      "    <Parameter name=\"continueOnError\">false</Parameter>\n",
      "    <Parameter name=\"calendarAdjustment\">D:\\Project_H\\Examples\\Example_1\\Inputnew\\calendaradjustment.xml</Parameter>\n",
      "    <Parameter name=\"currencyConfiguration\">D:\\Project_H\\Examples\\Example_1\\Inputnew\\currencies.xml</Parameter>\n",
      "  </Setup>\n",
      "  <Markets>\n",
      "    <Parameter name=\"lgmcalibration\">libor</Parameter>\n",
      "    <Parameter name=\"fxcalibration\">libor</Parameter>\n",
      "    <Parameter name=\"eqcalibration\">libor</Parameter>\n",
      "    <Parameter name=\"pricing\">libor</Parameter>\n",
      "    <Parameter name=\"simulation\">libor</Parameter>\n",
      "  </Markets>\n",
      "  <Analytics>\n",
      "    <Analytic type=\"npv\">\n",
      "      <Parameter name=\"active\">Y</Parameter>\n",
      "      <Parameter name=\"baseCurrency\">EUR</Parameter>\n",
      "      <Parameter name=\"outputFileName\">npv.csv</Parameter>\n",
      "      <Parameter name=\"additionalResults\">Y</Parameter>\n",
      "      <Parameter name=\"additionalResultsReportPrecision\">12</Parameter>\n",
      "    </Analytic>\n",
      "    <Analytic type=\"cashflow\">\n",
      "      <Parameter name=\"active\">Y</Parameter>\n",
      "      <Parameter name=\"outputFileName\">flows.csv</Parameter>\n",
      "    </Analytic>\n",
      "    <Analytic type=\"curves\">\n",
      "      <Parameter name=\"active\">Y</Parameter>\n",
      "      <Parameter name=\"configuration\">default</Parameter>\n",
      "      <Parameter name=\"grid\">240,1M</Parameter>\n",
      "      <Parameter name=\"outputFileName\">curves.csv</Parameter>\n",
      "      <Parameter name=\"outputTodaysMarketCalibration\">Y</Parameter>\n",
      "    </Analytic>\n",
      "    <Analytic type=\"simulation\">\n",
      "      <Parameter name=\"active\">Y</Parameter>\n",
      "      <Parameter name=\"simulationConfigFile\">simulation.xml</Parameter>\n",
      "      <Parameter name=\"pricingEnginesFile\">../../Input/pricingengine.xml</Parameter>\n",
      "      <Parameter name=\"baseCurrency\">EUR</Parameter>\n",
      "      <Parameter name=\"observationModel\">Disable</Parameter>\n",
      "      \n",
      "      <Parameter name=\"cubeFile\">cube.csv.gz</Parameter>\n",
      "      <Parameter name=\"aggregationScenarioDataFileName\">scenariodata.csv.gz</Parameter>\n",
      "    </Analytic>\n",
      "  </Analytics>\n",
      "</ORE>\n"
     ]
    }
   ],
   "source": [
    "import os\n",
    "import xml.etree.ElementTree as ET\n",
    "from config_file import f_path\n",
    "\n",
    "def convert_paths(xml_path: str, absolute_path: str) -> str:\n",
    "    \"\"\"\n",
    "    Iterates over each section of the XML, checks if the parameter name ends with 'File'\n",
    "    or the parameter value ends with '.xml' or '.txt', and replaces the text with\n",
    "    the absolute path + basename of the existing value.\n",
    "\n",
    "    Args:\n",
    "    - xml_path (str): Path to the XML file.\n",
    "    - absolute_path (str): Absolute path prefix for replacement.\n",
    "\n",
    "    Returns:\n",
    "    - str: Updated XML content as a string.\n",
    "    \"\"\"\n",
    "    \n",
    "    # Ensure absolute_path has no trailing slash\n",
    "    absolute_path = os.path.abspath(absolute_path).rstrip(os.sep)\n",
    "\n",
    "    # Parse XML\n",
    "    tree = ET.parse(xml_path)\n",
    "    root = tree.getroot()\n",
    "\n",
    "    # Iterate over sections\n",
    "    for section in root:\n",
    "        for param in section.findall(\"Parameter\"):\n",
    "            name = param.get(\"name\", \"\").strip()\n",
    "            value = param.text.strip() if param.text else \"\"\n",
    "\n",
    "            # Check conditions\n",
    "            if name.endswith(\"File\") or value.endswith((\".xml\", \".txt\")):\n",
    "                new_value = os.path.join(absolute_path, os.path.basename(value))\n",
    "                param.text = new_value  # Update parameter value\n",
    "\n",
    "    # Return modified XML as a string\n",
    "    return ET.tostring(root, encoding=\"unicode\")\n",
    "\n",
    "\n",
    "xml_file = os.path.join(f_path,\"ore.xml\")  # Input XML file\n",
    "abs_path = f_path # New absolute path\n",
    "\n",
    "updated_xml = convert_paths(xml_file, abs_path)\n",
    "print(updated_xml)\n"
   ]
  },
  {
   "cell_type": "code",
   "execution_count": null,
   "metadata": {},
   "outputs": [],
   "source": [
    "from typing import List, Optional, Literal\n",
    "from langchain_core.language_models.chat_models import BaseChatModel\n",
    "\n",
    "from langgraph.graph import StateGraph, MessagesState, START, END\n",
    "from langgraph.types import Command\n",
    "from langchain_core.messages import HumanMessage, trim_messages\n",
    "\n",
    "\n",
    "class State(MessagesState):\n",
    "    next: str\n",
    "\n",
    "\n",
    "def make_supervisor_node(llm: BaseChatModel, members: list[str]) -> str:\n",
    "    options = [\"FINISH\"] + members\n",
    "    system_prompt = (\n",
    "        \"You are a supervisor tasked with managing a conversation between the\"\n",
    "        f\" following workers: {members}. Given the following user request,\"\n",
    "        \" respond with the worker to act next. Each worker will perform a\"\n",
    "        \" task and respond with their results and status. When finished,\"\n",
    "        \" respond with FINISH.\"\n",
    "    )\n",
    "\n",
    "    class Router(TypedDict):\n",
    "        \"\"\"Worker to route to next. If no workers needed, route to FINISH.\"\"\"\n",
    "\n",
    "        next: Literal[*options]\n",
    "\n",
    "    def supervisor_node(state: State) -> Command[Literal[*members, \"__end__\"]]:\n",
    "        \"\"\"An LLM-based router.\"\"\"\n",
    "        messages = [\n",
    "            {\"role\": \"system\", \"content\": system_prompt},\n",
    "        ] + state[\"messages\"]\n",
    "        response = llm.with_structured_output(Router).invoke(messages)\n",
    "        goto = response[\"next\"]\n",
    "        if goto == \"FINISH\":\n",
    "            goto = END\n",
    "\n",
    "        return Command(goto=goto, update={\"next\": goto})\n",
    "\n",
    "    return supervisor_node"
   ]
  }
 ],
 "metadata": {
  "kernelspec": {
   "display_name": "ore_test",
   "language": "python",
   "name": "python3"
  },
  "language_info": {
   "codemirror_mode": {
    "name": "ipython",
    "version": 3
   },
   "file_extension": ".py",
   "mimetype": "text/x-python",
   "name": "python",
   "nbconvert_exporter": "python",
   "pygments_lexer": "ipython3",
   "version": "3.11.0"
  }
 },
 "nbformat": 4,
 "nbformat_minor": 2
}
