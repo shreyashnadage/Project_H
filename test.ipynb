{
 "cells": [
  {
   "cell_type": "code",
   "execution_count": 8,
   "metadata": {},
   "outputs": [
    {
     "data": {
      "text/markdown": [
       "# Step-by-Step Plan\n",
       "\n",
       "## Plan Steps\n",
       "\n",
       "| Agent | Task | Stopping Criteria |\n",
       "|-------|------|-------------------|\n",
       "|Agent1|Task1|Criteria1|\n",
       "|Agent2|Task2|Criteria2|\n"
      ],
      "text/plain": [
       "<IPython.core.display.Markdown object>"
      ]
     },
     "metadata": {},
     "output_type": "display_data"
    }
   ],
   "source": [
    "from IPython.display import display, Markdown\n",
    "\n",
    "planner_markdown = \"\"\"# Step-by-Step Plan\n",
    "\n",
    "## Plan Steps\n",
    "\n",
    "| Agent | Task | Stopping Criteria |\n",
    "|-------|------|-------------------|\n",
    "{plan_str}\n",
    "\"\"\"\n",
    "plan=[(\"Agent1\", \"Task1\", \"Criteria1\"), (\"Agent2\", \"Task2\", \"Criteria2\")]\n",
    "plan_str = '\\n'.join([f'|{agent_name}|{task}|{stopping_criteria}|' for agent_name, task, stopping_criteria in plan])\n",
    "test = planner_markdown.format(plan_str=plan_str)\n",
    "display(Markdown(test))"
   ]
  },
  {
   "cell_type": "code",
   "execution_count": 13,
   "metadata": {},
   "outputs": [
    {
     "data": {
      "text/markdown": [
       "\n",
       "    # 📋 Task Assignment\n",
       "\n",
       "    ---\n",
       "\n",
       "    ### 👤 Next Agent\n",
       "    **Agent1**\n",
       "\n",
       "    ---\n",
       "\n",
       "    ### 🎯 Next Task\n",
       "    **Task1**\n",
       "\n",
       "    ---\n",
       "\n",
       "    ### ⏹️ Stopping Criteria\n",
       "    **Criteria1**\n",
       "    "
      ],
      "text/plain": [
       "<IPython.core.display.Markdown object>"
      ]
     },
     "metadata": {},
     "output_type": "display_data"
    }
   ],
   "source": [
    "\n",
    "\n",
    "response = {'router': {\n",
    "    \"next_agent\": \"Agent1\",\n",
    "    \"next_task\": \"Task1\",\n",
    "    \"stopping_criteria\": \"Criteria1\"\n",
    "    }}\n",
    "\n",
    "router_markdown = f\"\"\"\n",
    "    # 📋 Task Assignment\n",
    "\n",
    "    ---\n",
    "\n",
    "    ### 👤 Next Agent\n",
    "    **{response['router']['next_agent']}**\n",
    "\n",
    "    ---\n",
    "\n",
    "    ### 🎯 Next Task\n",
    "    **{response['router']['next_task']}**\n",
    "\n",
    "    ---\n",
    "\n",
    "    ### ⏹️ Stopping Criteria\n",
    "    **{response['router']['stopping_criteria']}**\n",
    "    \"\"\"\n",
    "display(Markdown(router_markdown))"
   ]
  },
  {
   "cell_type": "code",
   "execution_count": 4,
   "metadata": {},
   "outputs": [
    {
     "name": "stdout",
     "output_type": "stream",
     "text": [
      "Agent1/Task1/Criteria1/\n",
      "Agent2/Task2/Criteria2/\n",
      "\n"
     ]
    }
   ],
   "source": [
    "plan=[(\"Agent1\", \"Task1\", \"Criteria1\"), (\"Agent2\", \"Task2\", \"Criteria2\")]\n",
    "print(''.join([f'{agent_name}/{task}/{stopping_criteria}/\\n' for agent_name, task, stopping_criteria in plan]))"
   ]
  },
  {
   "cell_type": "code",
   "execution_count": 51,
   "metadata": {},
   "outputs": [
    {
     "data": {
      "text/plain": [
       "\"An output parsing error occurred. In order to pass this error back to the agent and have it try again, pass `handle_parsing_errors=True` to the AgentExecutor. This is the error: Could not parse LLM output: `Based on the analysis, I can provide the following insights:\\n\\n1. Maximum Exposure Value:\\nThe maximum Expected Positive Exposure (EPE) for the 20-year swap trade is 366,189.\\n\\n2. Time Series Visualization:\\nI've created an interactive HTML plot saved as 'swap_20y_epe_timeseries.html' that shows the EPE values over time for the 20-year swap trade.\\n\\nKey Observations:\\n- The exposure starts relatively low at 598 on 2016-02-05\\n- There's a significant increase in exposure over time, peaking at 366,189 on 2017-02-06\\n- The exposure fluctuates between different time points\\n- Towards the end of the trade (around 2036), the exposure drops back to 0\\n\\nThe time series reveals an interesting pattern of exposure evolution:\\n1. Initial low exposure\\n2. Rapid increase in the first year\\n3. Continued moderate growth\\n4. Eventual decline towards the trade's maturity\\n\\nThe plot will help you visualize how the Expected Positive Exposure changes over the life of the 20-year swap trade, which is crucial for credit risk management and understanding potential future exposure.\\n\\nWould you like me to perform any additional analysis on this exposure data?`\\nFor troubleshooting, visit: https://python.langchain.com/docs/troubleshooting/errors/OUTPUT_PARSING_FAILURE \""
      ]
     },
     "execution_count": 51,
     "metadata": {},
     "output_type": "execute_result"
    }
   ],
   "source": [
    "test"
   ]
  },
  {
   "cell_type": "code",
   "execution_count": 45,
   "metadata": {},
   "outputs": [
    {
     "data": {
      "text/markdown": [
       "Maximum Exposure Values for the 20-year Swap Trade:\n",
       "1. Maximum Expected Positive Exposure (EPE): 366,189\n",
       "2. Maximum Potential Future Exposure (PFE): 1,501,715\n",
       "3. Maximum Basel Effective Exposure (BaselEE): 655,559\n",
       "\n",
       "Detailed Analysis:\n",
       "1. Exposure Progression:\n",
       "   - The exposure metrics show a clear increasing trend over time\n",
       "   - The trade starts with a relatively low exposure of 598 at the beginning (time 0)\n",
       "   - Exposure increases significantly over the first year, reaching peak values around 1-1.5 years\n",
       "\n",
       "2. Exposure Metric Characteristics:\n",
       "   - PFE (Potential Future Exposure) is the most volatile and highest metric\n",
       "   - EPE (Expected Positive Exposure) shows a more gradual increase\n",
       "   - Basel Effective Exposure tracks closely with the other metrics\n",
       "\n",
       "3. Risk Implications:\n",
       "   - The maximum PFE of 1,501,715 suggests significant potential credit risk\n",
       "   - The increasing exposure indicates the swap becomes more valuable/risky over time\n",
       "   - The Basel Effective Exposure of 655,559 would be used for regulatory capital calculations\n",
       "\n",
       "Visualization Insights:\n",
       "- The exposure metrics follow a non-linear growth pattern\n",
       "- There are steep increases in exposure, particularly in the first year\n",
       "- The metrics converge and stabilize towards the later stages of the swap\n",
       "\n",
       "Recommendations:\n",
       "1. Monitor the swap closely, especially during the initial years\n",
       "2. Maintain adequate collateral to cover the potential exposure\n",
       "3. Regularly reassess the credit risk as the exposure evolves\n",
       "\n",
       "This analysis provides a comprehensive view of the exposure metrics for the 20-year swap trade, highlighting the dynamic nature of credit risk over the swap's lifetime."
      ],
      "text/plain": [
       "<IPython.core.display.Markdown object>"
      ]
     },
     "metadata": {},
     "output_type": "display_data"
    }
   ],
   "source": [
    "from IPython.display import Markdown, display\n",
    "\n",
    "display(Markdown(test['output']))"
   ]
  },
  {
   "cell_type": "code",
   "execution_count": 15,
   "metadata": {},
   "outputs": [
    {
     "data": {
      "text/plain": [
       "'Testing'"
      ]
     },
     "execution_count": 15,
     "metadata": {},
     "output_type": "execute_result"
    }
   ],
   "source": [
    "from langchain_core.messages import SystemMessage\n",
    "SystemMessage(content=\"Testing\").content"
   ]
  },
  {
   "cell_type": "code",
   "execution_count": null,
   "metadata": {},
   "outputs": [],
   "source": []
  }
 ],
 "metadata": {
  "kernelspec": {
   "display_name": "ore_test",
   "language": "python",
   "name": "python3"
  },
  "language_info": {
   "codemirror_mode": {
    "name": "ipython",
    "version": 3
   },
   "file_extension": ".py",
   "mimetype": "text/x-python",
   "name": "python",
   "nbconvert_exporter": "python",
   "pygments_lexer": "ipython3",
   "version": "3.11.0"
  }
 },
 "nbformat": 4,
 "nbformat_minor": 2
}
