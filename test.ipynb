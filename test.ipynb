{
 "cells": [
  {
   "cell_type": "code",
   "execution_count": 8,
   "metadata": {},
   "outputs": [
    {
     "data": {
      "text/markdown": [
       "# Step-by-Step Plan\n",
       "\n",
       "## Plan Steps\n",
       "\n",
       "| Agent | Task | Stopping Criteria |\n",
       "|-------|------|-------------------|\n",
       "|Agent1|Task1|Criteria1|\n",
       "|Agent2|Task2|Criteria2|\n"
      ],
      "text/plain": [
       "<IPython.core.display.Markdown object>"
      ]
     },
     "metadata": {},
     "output_type": "display_data"
    }
   ],
   "source": [
    "from IPython.display import display, Markdown\n",
    "\n",
    "planner_markdown = \"\"\"# Step-by-Step Plan\n",
    "\n",
    "## Plan Steps\n",
    "\n",
    "| Agent | Task | Stopping Criteria |\n",
    "|-------|------|-------------------|\n",
    "{plan_str}\n",
    "\"\"\"\n",
    "plan=[(\"Agent1\", \"Task1\", \"Criteria1\"), (\"Agent2\", \"Task2\", \"Criteria2\")]\n",
    "plan_str = '\\n'.join([f'|{agent_name}|{task}|{stopping_criteria}|' for agent_name, task, stopping_criteria in plan])\n",
    "test = planner_markdown.format(plan_str=plan_str)\n",
    "display(Markdown(test))"
   ]
  },
  {
   "cell_type": "code",
   "execution_count": 13,
   "metadata": {},
   "outputs": [
    {
     "data": {
      "text/markdown": [
       "\n",
       "    # 📋 Task Assignment\n",
       "\n",
       "    ---\n",
       "\n",
       "    ### 👤 Next Agent\n",
       "    **Agent1**\n",
       "\n",
       "    ---\n",
       "\n",
       "    ### 🎯 Next Task\n",
       "    **Task1**\n",
       "\n",
       "    ---\n",
       "\n",
       "    ### ⏹️ Stopping Criteria\n",
       "    **Criteria1**\n",
       "    "
      ],
      "text/plain": [
       "<IPython.core.display.Markdown object>"
      ]
     },
     "metadata": {},
     "output_type": "display_data"
    }
   ],
   "source": [
    "\n",
    "\n",
    "response = {'router': {\n",
    "    \"next_agent\": \"Agent1\",\n",
    "    \"next_task\": \"Task1\",\n",
    "    \"stopping_criteria\": \"Criteria1\"\n",
    "    }}\n",
    "\n",
    "router_markdown = f\"\"\"\n",
    "    # 📋 Task Assignment\n",
    "\n",
    "    ---\n",
    "\n",
    "    ### 👤 Next Agent\n",
    "    **{response['router']['next_agent']}**\n",
    "\n",
    "    ---\n",
    "\n",
    "    ### 🎯 Next Task\n",
    "    **{response['router']['next_task']}**\n",
    "\n",
    "    ---\n",
    "\n",
    "    ### ⏹️ Stopping Criteria\n",
    "    **{response['router']['stopping_criteria']}**\n",
    "    \"\"\"\n",
    "display(Markdown(router_markdown))"
   ]
  },
  {
   "cell_type": "code",
   "execution_count": 4,
   "metadata": {},
   "outputs": [
    {
     "name": "stdout",
     "output_type": "stream",
     "text": [
      "Agent1/Task1/Criteria1/\n",
      "Agent2/Task2/Criteria2/\n",
      "\n"
     ]
    }
   ],
   "source": [
    "plan=[(\"Agent1\", \"Task1\", \"Criteria1\"), (\"Agent2\", \"Task2\", \"Criteria2\")]\n",
    "print(''.join([f'{agent_name}/{task}/{stopping_criteria}/\\n' for agent_name, task, stopping_criteria in plan]))"
   ]
  },
  {
   "cell_type": "code",
   "execution_count": 14,
   "metadata": {},
   "outputs": [
    {
     "name": "stdout",
     "output_type": "stream",
     "text": [
      "---Step 1---\n",
      "{'step_1': None}\n",
      "\n",
      "\n",
      "---human_feedback---\n",
      "{'__interrupt__': (Interrupt(value='Please provide feedback:', resumable=True, ns=['human_feedback:1842b1fa-954e-31b7-b1de-52448fd7278d'], when='during'),)}\n",
      "\n",
      "\n"
     ]
    }
   ],
   "source": [
    "from typing_extensions import TypedDict\n",
    "from langgraph.graph import StateGraph, START, END\n",
    "from langgraph.types import Command, interrupt\n",
    "from langgraph.checkpoint.memory import MemorySaver\n",
    "\n",
    "\n",
    "\n",
    "class State(TypedDict):\n",
    "    input: str\n",
    "    user_feedback: str\n",
    "\n",
    "\n",
    "def step_1(state):\n",
    "    print(\"---Step 1---\")\n",
    "    pass\n",
    "\n",
    "\n",
    "def human_feedback(state):\n",
    "    print(\"---human_feedback---\")\n",
    "    feedback = interrupt(\"Please provide feedback:\")\n",
    "    return {\"user_feedback\": feedback}\n",
    "\n",
    "\n",
    "def step_3(state):\n",
    "    print(\"---Step 3---\")\n",
    "    pass\n",
    "\n",
    "\n",
    "builder = StateGraph(State)\n",
    "builder.add_node(\"step_1\", step_1)\n",
    "builder.add_node(\"human_feedback\", human_feedback)\n",
    "builder.add_node(\"step_3\", step_3)\n",
    "builder.add_edge(START, \"step_1\")\n",
    "builder.add_edge(\"step_1\", \"human_feedback\")\n",
    "builder.add_edge(\"human_feedback\", \"step_3\")\n",
    "builder.add_edge(\"step_3\", END)\n",
    "\n",
    "# Set up memory\n",
    "memory = MemorySaver()\n",
    "\n",
    "# Add\n",
    "graph = builder.compile(checkpointer=memory)\n",
    "\n",
    "# Input\n",
    "initial_input = {\"input\": \"hello world\"}\n",
    "\n",
    "# Thread\n",
    "thread = {\"configurable\": {\"thread_id\": \"1\"}}\n",
    "\n",
    "# Run the graph until the first interruption\n",
    "for event in graph.stream(initial_input, thread, stream_mode=\"updates\"):\n",
    "    print(event)\n",
    "    print(\"\\n\")"
   ]
  },
  {
   "cell_type": "code",
   "execution_count": 15,
   "metadata": {},
   "outputs": [
    {
     "name": "stdout",
     "output_type": "stream",
     "text": [
      "---human_feedback---\n",
      "{'human_feedback': {'user_feedback': 'go to step 3!'}}\n",
      "\n",
      "\n",
      "---Step 3---\n",
      "{'step_3': None}\n",
      "\n",
      "\n"
     ]
    }
   ],
   "source": [
    "# Continue the graph execution\n",
    "for event in graph.stream(\n",
    "    Command(resume=\"go to step 3!\"), thread, stream_mode=\"updates\"\n",
    "):\n",
    "    print(event)\n",
    "    print(\"\\n\")"
   ]
  },
  {
   "cell_type": "code",
   "execution_count": 15,
   "metadata": {},
   "outputs": [
    {
     "data": {
      "text/plain": [
       "'Testing'"
      ]
     },
     "execution_count": 15,
     "metadata": {},
     "output_type": "execute_result"
    }
   ],
   "source": [
    "from langchain_core.messages import SystemMessage\n",
    "SystemMessage(content=\"Testing\").content"
   ]
  },
  {
   "cell_type": "code",
   "execution_count": null,
   "metadata": {},
   "outputs": [],
   "source": []
  }
 ],
 "metadata": {
  "kernelspec": {
   "display_name": "ore_test",
   "language": "python",
   "name": "python3"
  },
  "language_info": {
   "codemirror_mode": {
    "name": "ipython",
    "version": 3
   },
   "file_extension": ".py",
   "mimetype": "text/x-python",
   "name": "python",
   "nbconvert_exporter": "python",
   "pygments_lexer": "ipython3",
   "version": "3.11.0"
  }
 },
 "nbformat": 4,
 "nbformat_minor": 2
}
