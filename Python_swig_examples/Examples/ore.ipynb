{
 "cells": [
  {
   "cell_type": "markdown",
   "metadata": {
    "extensions": {
     "jupyter_dashboards": {
      "version": 1,
      "views": {
       "grid_default": {
        "col": 0,
        "height": 4,
        "hidden": true,
        "row": 20,
        "width": 4
       },
       "report_default": {
        "hidden": false
       }
      }
     }
    }
   },
   "source": [
    "\n",
    "# ORE Jupyter Dashboard"
   ]
  },
  {
   "cell_type": "markdown",
   "metadata": {
    "extensions": {
     "jupyter_dashboards": {
      "version": 1,
      "views": {
       "grid_default": {
        "col": 4,
        "height": 4,
        "hidden": true,
        "row": 26,
        "width": 4
       },
       "report_default": {
        "hidden": false
       }
      }
     }
    }
   },
   "source": [
    "This dashboard contains several modules to run ORE functionality and visualize results.\n",
    "\n",
    "It assumes a standard installation of Anaconda Python 3, see https://www.continuum.io/downloads. \n",
    "\n",
    "Some plots require more dependencies, see below."
   ]
  },
  {
   "cell_type": "markdown",
   "metadata": {
    "extensions": {
     "jupyter_dashboards": {
      "version": 1,
      "views": {
       "grid_default": {
        "col": 0,
        "height": 2,
        "hidden": false,
        "row": 0,
        "width": 12
       },
       "report_default": {
        "hidden": false
       }
      }
     }
    }
   },
   "source": [
    "## Launch ORE"
   ]
  },
  {
   "cell_type": "markdown",
   "metadata": {
    "extensions": {
     "jupyter_dashboards": {
      "version": 1,
      "views": {
       "grid_default": {
        "col": 0,
        "height": 4,
        "hidden": true,
        "row": 12,
        "width": 12
       },
       "report_default": {
        "hidden": false
       }
      }
     }
    }
   },
   "source": [
    "Kick off a process in ORE as specified in Input/ore.xml"
   ]
  },
  {
   "cell_type": "code",
   "execution_count": null,
   "metadata": {
    "extensions": {
     "jupyter_dashboards": {
      "version": 1,
      "views": {
       "grid_default": {
        "hidden": true
       },
       "report_default": {
        "hidden": true
       }
      }
     }
    }
   },
   "outputs": [],
   "source": [
    "from ORE import *\n",
    "\n",
    "print (\"Loading parameters...\")\n",
    "params = Parameters()\n",
    "print (\"   params is of type\", type(params))\n",
    "params.fromFile(\"Input/ore.xml\")\n",
    "print (\"   setup/asofdate = \" + params.get(\"setup\",\"asofDate\"))\n",
    "\n",
    "print (\"Building OREApp...\")\n",
    "ore = OREApp(params)\n",
    "print (\"   ore is of type\", type(ore))"
   ]
  },
  {
   "cell_type": "code",
   "execution_count": null,
   "metadata": {
    "extensions": {
     "jupyter_dashboards": {
      "version": 1,
      "views": {
       "grid_default": {
        "col": 0,
        "height": 5,
        "hidden": false,
        "row": 2,
        "width": 12
       },
       "report_default": {
        "hidden": true
       }
      }
     }
    }
   },
   "outputs": [],
   "source": [
    "ore.run()\n",
    "print (\"ORE process done\");"
   ]
  },
  {
   "cell_type": "markdown",
   "metadata": {
    "extensions": {
     "jupyter_dashboards": {
      "version": 1,
      "views": {
       "grid_default": {
        "col": 0,
        "height": 2,
        "hidden": false,
        "row": 7,
        "width": 12
       },
       "report_default": {
        "hidden": false
       }
      }
     }
    }
   },
   "source": [
    "## Query ORE App Members"
   ]
  },
  {
   "cell_type": "markdown",
   "metadata": {
    "extensions": {
     "jupyter_dashboards": {
      "version": 1,
      "views": {
       "grid_default": {
        "col": 0,
        "height": 4,
        "hidden": true,
        "row": 31,
        "width": 12
       },
       "report_default": {
        "hidden": false
       }
      }
     }
    }
   },
   "source": [
    "Retrieve the market object stored in OREApp and initialized in the previous step when running the ORE process.\n",
    "\n",
    "Then query the market object for some members (a discount and a forward curve) and evaluate discount factors and zero rates at some point in time in the future."
   ]
  },
  {
   "cell_type": "code",
   "execution_count": null,
   "metadata": {
    "extensions": {
     "jupyter_dashboards": {
      "version": 1,
      "views": {
       "grid_default": {
        "hidden": true
       },
       "report_default": {
        "hidden": true
       }
      }
     }
    }
   },
   "outputs": [],
   "source": [
    "analytic = ore.getAnalytic(\"NPV\")\n",
    "print(\"Got the NPV analytic\")"
   ]
  },
  {
   "cell_type": "code",
   "execution_count": null,
   "metadata": {
    "extensions": {
     "jupyter_dashboards": {
      "version": 1,
      "views": {
       "grid_default": {
        "hidden": true
       },
       "report_default": {
        "hidden": true
       }
      }
     }
    }
   },
   "outputs": [],
   "source": [
    "market  = analytic.getMarket()\n",
    "print (\"Got market object built by the NPV analytic\");\n",
    "asof = market.asofDate();\n",
    "print (\"Market asof date is\", asof)"
   ]
  },
  {
   "cell_type": "code",
   "execution_count": null,
   "metadata": {
    "extensions": {
     "jupyter_dashboards": {
      "version": 1,
      "views": {
       "grid_default": {
        "col": 0,
        "height": 7,
        "hidden": false,
        "row": 9,
        "width": 12
       },
       "report_default": {
        "hidden": true
       }
      }
     }
    }
   },
   "outputs": [],
   "source": [
    "ccy = \"EUR\"\n",
    "index = \"EUR-EURIBOR-6M\"\n",
    "\n",
    "print (\"Get term structures for ccy \", ccy, \"and index\", index);\n",
    "\n",
    "discountCurve = market.discountCurve(ccy)\n",
    "print (\"   discount curve is of type\", type(discountCurve))\n",
    "\n",
    "iborIndex = market.iborIndex(index)\n",
    "print (\"   ibor index is of type\", type(iborIndex))\n",
    "\n",
    "forwardCurve = iborIndex.forwardingTermStructure()\n",
    "print (\"   forward curve is of type\", type(forwardCurve))\n",
    "\n",
    "date = asof + 10*Years;\n",
    "zeroRateDc = Actual365Fixed()\n",
    "\n",
    "discount = discountCurve.discount(date)\n",
    "zero = discountCurve.zeroRate(date, zeroRateDc, Continuous)\n",
    "\n",
    "fwdDiscount = forwardCurve.discount(date)\n",
    "fwdZero = forwardCurve.zeroRate(date, zeroRateDc, Continuous)\n",
    "\n",
    "print (\"   10y discount factor (discount curve) is\", discount)\n",
    "print (\"   10y discout factor (forward curve) is\", fwdDiscount)\n",
    "\n",
    "print (\"   10y zero rate (discount curve) is\", zero)\n",
    "print (\"   10y zero rate (forward curve) is\", fwdZero)"
   ]
  },
  {
   "cell_type": "code",
   "execution_count": null,
   "metadata": {
    "extensions": {
     "jupyter_dashboards": {
      "version": 1,
      "views": {
       "grid_default": {
        "hidden": true
       },
       "report_default": {
        "hidden": true
       }
      }
     }
    }
   },
   "outputs": [],
   "source": [
    "dc = Actual365Fixed()\n",
    "\n",
    "# date grid\n",
    "dates = []\n",
    "times = []\n",
    "zeros1 = []\n",
    "zeros2 = []\n",
    "date = asof\n",
    "previousDate = asof\n",
    "for i in range (1,10*53):\n",
    "    date = date + Period(1, Weeks);\n",
    "    time = dc.yearFraction(asof, date)\n",
    "    dates.append(date)\n",
    "    times.append(time)\n",
    "    zero1 = discountCurve.forwardRate(previousDate, date, zeroRateDc, Continuous).rate()\n",
    "    zero2 = forwardCurve.forwardRate(previousDate, date, zeroRateDc, Continuous).rate()\n",
    "    zeros1.append(zero1)\n",
    "    zeros2.append(zero2)\n",
    "    previousDate = date\n",
    "    #print (date, time, zero1, zero2)\n",
    "\n",
    "#print(times)"
   ]
  },
  {
   "cell_type": "markdown",
   "metadata": {
    "extensions": {
     "jupyter_dashboards": {
      "version": 1,
      "views": {
       "grid_default": {
        "col": 0,
        "height": 2,
        "hidden": false,
        "row": 16,
        "width": 12
       },
       "report_default": {
        "hidden": false
       }
      }
     }
    }
   },
   "source": [
    "## Curve Plot"
   ]
  },
  {
   "cell_type": "markdown",
   "metadata": {
    "extensions": {
     "jupyter_dashboards": {
      "version": 1,
      "views": {
       "grid_default": {
        "col": 0,
        "height": 4,
        "hidden": true,
        "row": 31,
        "width": 4
       },
       "report_default": {
        "hidden": false
       }
      }
     }
    }
   },
   "source": [
    "Install matplotlib and numpy with 'pip install matplotlib'.\n",
    "Then plot the discount and forward curves above, as follows."
   ]
  },
  {
   "cell_type": "code",
   "execution_count": null,
   "metadata": {
    "extensions": {
     "jupyter_dashboards": {
      "version": 1,
      "views": {
       "grid_default": {
        "col": 0,
        "height": 20,
        "hidden": false,
        "row": 18,
        "width": null
       },
       "report_default": {
        "hidden": false
       }
      }
     }
    }
   },
   "outputs": [],
   "source": [
    "import matplotlib.pyplot as plt\n",
    "import numpy as np\n",
    "\n",
    "plt.plot(times, zeros1, label='discount')\n",
    "plt.plot(times, zeros2, label='forward')\n",
    "plt.xlabel('Time/Years')\n",
    "plt.ylabel('Rate')\n",
    "plt.title('Discount and Forward Curve')\n",
    "plt.legend()\n",
    "plt.show()"
   ]
  },
  {
   "cell_type": "code",
   "execution_count": null,
   "metadata": {
    "extensions": {
     "jupyter_dashboards": {
      "version": 1,
      "views": {
       "grid_default": {
        "hidden": true
       },
       "report_default": {
        "hidden": true
       }
      }
     }
    }
   },
   "outputs": [],
   "source": []
  }
 ],
 "metadata": {
  "anaconda-cloud": {},
  "extensions": {
   "jupyter_dashboards": {
    "activeView": "report_default",
    "version": 1,
    "views": {
     "grid_default": {
      "cellMargin": 10,
      "defaultCellHeight": 20,
      "maxColumns": 12,
      "name": "grid",
      "type": "grid"
     },
     "report_default": {
      "name": "report",
      "type": "report"
     }
    }
   }
  },
  "kernelspec": {
   "display_name": "Python 3 (ipykernel)",
   "language": "python",
   "name": "python3"
  },
  "language_info": {
   "codemirror_mode": {
    "name": "ipython",
    "version": 3
   },
   "file_extension": ".py",
   "mimetype": "text/x-python",
   "name": "python",
   "nbconvert_exporter": "python",
   "pygments_lexer": "ipython3",
   "version": "3.11.2"
  },
  "widgets": {
   "state": {
    "706c717787fc48baacd29c35c5b92bba": {
     "views": [
      {
       "cell_index": 13
      }
     ]
    }
   },
   "version": "1.2.0"
  }
 },
 "nbformat": 4,
 "nbformat_minor": 4
}
