{
 "cells": [
  {
   "cell_type": "markdown",
   "metadata": {
    "extensions": {
     "jupyter_dashboards": {
      "version": 1,
      "views": {
       "grid_default": {
        "col": 0,
        "height": 4,
        "hidden": true,
        "row": 20,
        "width": 4
       },
       "report_default": {
        "hidden": false
       }
      }
     }
    }
   },
   "source": [
    "\n",
    "# SIMM Calculation"
   ]
  },
  {
   "cell_type": "markdown",
   "metadata": {
    "extensions": {
     "jupyter_dashboards": {
      "version": 1,
      "views": {
       "grid_default": {
        "col": 4,
        "height": 4,
        "hidden": true,
        "row": 26,
        "width": 4
       },
       "report_default": {
        "hidden": false
       }
      }
     }
    }
   },
   "source": [
    "This dashboard demonstrates the capacity of ORE to trigger SIMM calculation from Python commands."
   ]
  },
  {
   "cell_type": "markdown",
   "metadata": {
    "extensions": {
     "jupyter_dashboards": {
      "version": 1,
      "views": {
       "grid_default": {
        "col": 0,
        "height": 2,
        "hidden": false,
        "row": 0,
        "width": 12
       },
       "report_default": {
        "hidden": false
       }
      }
     }
    }
   },
   "source": [
    "## Launch ORE"
   ]
  },
  {
   "cell_type": "markdown",
   "metadata": {
    "extensions": {
     "jupyter_dashboards": {
      "version": 1,
      "views": {
       "grid_default": {
        "col": 0,
        "height": 4,
        "hidden": true,
        "row": 12,
        "width": 12
       },
       "report_default": {
        "hidden": false
       }
      }
     }
    },
    "tags": []
   },
   "source": [
    "Kick off a process in ORE, loading all inputs from Input/ore.xml and the files referenced therein. \n",
    "This is equivalent to using the ORE command line application."
   ]
  },
  {
   "cell_type": "code",
   "execution_count": 1,
   "metadata": {
    "extensions": {
     "jupyter_dashboards": {
      "version": 1,
      "views": {
       "grid_default": {
        "hidden": true
       },
       "report_default": {
        "hidden": true
       }
      }
     }
    },
    "scrolled": true
   },
   "outputs": [],
   "source": [
    "from ORE import *\n",
    "import sys, time, math\n",
    "sys.path.append('..')\n",
    "import utilities\n",
    "\n",
    "#!{sys.executable} -m pip install open-source-risk-engine==1.8.11\n",
    "\n",
    "params = Parameters()\n",
    "params.fromFile(\"Input/ore_SIMM2.4_1D.xml\")\n",
    "\n",
    "ore = OREApp(params)\n"
   ]
  },
  {
   "cell_type": "code",
   "execution_count": 2,
   "metadata": {},
   "outputs": [
    {
     "name": "stdout",
     "output_type": "stream",
     "text": [
      "Run time: 0.34 sec\n",
      "Errors: 0\n"
     ]
    }
   ],
   "source": [
    "ore.run()\n",
    "\n",
    "utilities.checkErrorsAndRunTime(ore)"
   ]
  },
  {
   "cell_type": "markdown",
   "metadata": {},
   "source": [
    "There is also the possiblity to parametrise the SIMM calculation direclty in Python"
   ]
  },
  {
   "cell_type": "code",
   "execution_count": 3,
   "metadata": {},
   "outputs": [],
   "source": [
    "# Inspecting the inputs data\n",
    "inputs = ore.getInputs()"
   ]
  },
  {
   "cell_type": "code",
   "execution_count": 8,
   "metadata": {},
   "outputs": [
    {
     "name": "stdout",
     "output_type": "stream",
     "text": [
      "Run time: 0.33 sec\n",
      "Errors: 0\n"
     ]
    }
   ],
   "source": [
    "crifData = \"TradeID,PortfolioID,ProductClass,RiskType,Qualifier,Bucket,Label1,Label2,AmountCurrency,Amount,collect_regulations,post_regulations \\\n",
    "            IR_Bermudan,CRIF_20191230,RatesFX,Risk_IRCurve,USD,1,10y,Libor3m,USD,-1991.02,ESA,USPR,SEC,CFTC \\\n",
    "            IR_Bermudan,CRIF_20191230,RatesFX,Risk_IRCurve,USD,1,10y,OIS,USD,-304.84,ESA,USPR,SEC,CFTC \\\n",
    "            IR_Bermudan,CRIF_20191230,RatesFX,Risk_IRCurve,USD,1,15y,Libor3m,USD,-611.3,ESA,USPR,SEC,CFTC \\\n",
    "            IR_Bermudan,CRIF_20191230,RatesFX,Risk_IRCurve,USD,1,15y,OIS,USD,-510.15,ESA,USPR,SEC,CFTC \\\n",
    "            IR_Bermudan,CRIF_20191230,RatesFX,Risk_IRCurve,USD,1,1y,Libor3m,USD,-0.09,ESA,USPR,SEC,CFTC \\\n",
    "            IR_Bermudan,CRIF_20191230,RatesFX,Risk_IRCurve,USD,1,1y,OIS,USD,-0.38,ESA,USPR,SEC,CFTC \\\n",
    "            IR_Bermudan,CRIF_20191230,RatesFX,Risk_IRCurve,USD,1,20y,Libor3m,USD,-5926.95,ESA,USPR,SEC,CFTC \\\n",
    "            IR_Bermudan,CRIF_20191230,RatesFX,Risk_IRCurve,USD,1,20y,OIS,USD,-660.82,ESA,USPR,SEC,CFTC \\\n",
    "            IR_Bermudan,CRIF_20191230,RatesFX,Risk_IRCurve,USD,1,2w,Libor3m,USD,11.18,ESA,USPR,SEC,CFTC \\\n",
    "            IR_Bermudan,CRIF_20191230,RatesFX,Risk_IRCurve,USD,1,2w,OIS,USD,-0.93,ESA,USPR,SEC,CFTC \\\n",
    "            IR_Bermudan,CRIF_20191230,RatesFX,Risk_IRCurve,USD,1,2y,Libor3m,USD,-0.23,ESA,USPR,SEC,CFTC \\\n",
    "            IR_Bermudan,CRIF_20191230,RatesFX,Risk_IRCurve,USD,1,2y,OIS,USD,-2.93,ESA,USPR,SEC,CFTC \\\n",
    "            IR_Bermudan,CRIF_20191230,RatesFX,Risk_IRCurve,USD,1,30y,Libor3m,USD,-1894.5,ESA,USPR,SEC,CFTC \\\n",
    "            IR_Bermudan,CRIF_20191230,RatesFX,Risk_IRCurve,USD,1,30y,OIS,USD,-62.5,ESA,USPR,SEC,CFTC \\\n",
    "            IR_Bermudan,CRIF_20191230,RatesFX,Risk_IRCurve,USD,1,3m,Libor3m,USD,0.05,ESA,USPR,SEC,CFTC \\\n",
    "            IR_Bermudan,CRIF_20191230,RatesFX,Risk_IRCurve,USD,1,3m,OIS,USD,-3.28,ESA,USPR,SEC,CFTC \\\n",
    "            IR_Bermudan,CRIF_20191230,RatesFX,Risk_IRCurve,USD,1,3y,Libor3m,USD,-1.05,ESA,USPR,SEC,CFTC \\\n",
    "            IR_Bermudan,CRIF_20191230,RatesFX,Risk_IRCurve,USD,1,3y,OIS,USD,-6.63,ESA,USPR,SEC,CFTC \\\n",
    "            IR_Bermudan,CRIF_20191230,RatesFX,Risk_IRCurve,USD,1,5y,Libor3m,USD,-1431.81,ESA,USPR,SEC,CFTC \\\n",
    "            IR_Bermudan,CRIF_20191230,RatesFX,Risk_IRCurve,USD,1,5y,OIS,USD,-71.68,ESA,USPR,SEC,CFTC \\\n",
    "            IR_Bermudan,CRIF_20191230,RatesFX,Risk_IRCurve,USD,1,6m,Libor3m,USD,-0.03,ESA,USPR,SEC,CFTC \\\n",
    "            IR_Bermudan,CRIF_20191230,RatesFX,Risk_IRCurve,USD,1,6m,OIS,USD,2.01,ESA,USPR,SEC,CFTC \\\n",
    "            IR_Bermudan,CRIF_20191230,RatesFX,Risk_IRVol,USD,,10y,,USD,498253.14,ESA,USPR,SEC,CFTC \\\n",
    "            IR_Bermudan,CRIF_20191230,RatesFX,Risk_IRVol,USD,,15y,,USD,163454.34,ESA,USPR,SEC,CFTC \\\n",
    "            IR_Bermudan,CRIF_20191230,RatesFX,Risk_IRVol,USD,,3y,,USD,2813.27,ESA,USPR,SEC,CFTC \\\n",
    "            IR_Bermudan,CRIF_20191230,RatesFX,Risk_IRVol,USD,,5y,,USD,264121.38,ESA,USPR,SEC,CFTC \\\n",
    "            IR_Bermudan,CRIF_20191230,RatesFX,Risk_FX,USD,,,,USD,13186.84,ESA,USPR,SEC,CFTC \"\n",
    "\n",
    "inputs.setCrifFromBuffer(crifData)\n",
    "inputs.setSimmVersion(\"2.13\")\n",
    "inputs.setSimmCalculationCurrencyCall(\"EUR\")\n",
    "inputs.setSimmCalculationCurrencyPost(\"EUR\")\n",
    "inputs.setSimmResultCurrency(\"EUR\")\n",
    "inputs.setSimmReportingCurrency(\"EUR\")\n",
    "inputs.setMporDays(1000)\n",
    "\n",
    "# Inserting the Sensitivity analytics\n",
    "inputs.insertAnalytic(\"SIMM\")\n",
    "\n",
    "ore.run()\n",
    "\n",
    "utilities.checkErrorsAndRunTime(ore)"
   ]
  },
  {
   "cell_type": "markdown",
   "metadata": {
    "extensions": {
     "jupyter_dashboards": {
      "version": 1,
      "views": {
       "grid_default": {
        "col": 0,
        "height": 2,
        "hidden": false,
        "row": 7,
        "width": 12
       },
       "report_default": {
        "hidden": false
       }
      }
     }
    }
   },
   "source": [
    "## Query Results"
   ]
  },
  {
   "cell_type": "markdown",
   "metadata": {
    "extensions": {
     "jupyter_dashboards": {
      "version": 1,
      "views": {
       "grid_default": {
        "col": 0,
        "height": 4,
        "hidden": true,
        "row": 31,
        "width": 12
       },
       "report_default": {
        "hidden": false
       }
      }
     }
    },
    "tags": []
   },
   "source": [
    "The results of the ORE run above have been written to the Output folder.\n",
    "Moreover all results are stored in memory and can be queried as follows.\n",
    "\n",
    "First, double-check which analytics we have requested, see Input/ore.xml:"
   ]
  },
  {
   "cell_type": "code",
   "execution_count": 9,
   "metadata": {
    "extensions": {
     "jupyter_dashboards": {
      "version": 1,
      "views": {
       "grid_default": {
        "hidden": true
       },
       "report_default": {
        "hidden": true
       }
      }
     }
    },
    "tags": []
   },
   "outputs": [
    {
     "name": "stdout",
     "output_type": "stream",
     "text": [
      "Run time: 0.33 sec\n",
      "Errors: 0\n"
     ]
    }
   ],
   "source": [
    "utilities.checkErrorsAndRunTime(ore)"
   ]
  },
  {
   "cell_type": "markdown",
   "metadata": {
    "extensions": {
     "jupyter_dashboards": {
      "version": 1,
      "views": {
       "grid_default": {
        "col": 0,
        "height": 4,
        "hidden": true,
        "row": 31,
        "width": 12
       },
       "report_default": {
        "hidden": false
       }
      }
     }
    }
   },
   "source": [
    "Now list all reports that have been generated:"
   ]
  },
  {
   "cell_type": "code",
   "execution_count": 10,
   "metadata": {
    "extensions": {
     "jupyter_dashboards": {
      "version": 1,
      "views": {
       "grid_default": {
        "col": 0,
        "height": 7,
        "hidden": false,
        "row": 9,
        "width": 12
       },
       "report_default": {
        "hidden": true
       }
      }
     }
    }
   },
   "outputs": [
    {
     "name": "stdout",
     "output_type": "stream",
     "text": [
      "\n",
      "- crif\n",
      "- dividends\n",
      "- fixings\n",
      "- marketdata\n",
      "- regulation_breakdown_simm\n",
      "- simm\n",
      "- simm_data\n",
      "- todaysmarketcalibration\n"
     ]
    }
   ],
   "source": [
    "utilities.writeList(ore.getReportNames())"
   ]
  },
  {
   "cell_type": "code",
   "execution_count": 11,
   "metadata": {},
   "outputs": [
    {
     "data": {
      "application/vnd.jupyter.widget-view+json": {
       "model_id": "4c3da4880a474d4b906cafd8aa475a87",
       "version_major": 2,
       "version_minor": 0
      },
      "text/plain": [
       "interactive(children=(Dropdown(description='reportName', options=('crif', 'dividends', 'fixings', 'marketdata'…"
      ]
     },
     "metadata": {},
     "output_type": "display_data"
    },
    {
     "data": {
      "text/plain": [
       "<function __main__.analyseAndDisplayReport(reportName)>"
      ]
     },
     "execution_count": 11,
     "metadata": {},
     "output_type": "execute_result"
    }
   ],
   "source": [
    "from ipywidgets import interact\n",
    "\n",
    "nbLinesToDisplay = 10\n",
    "nbColumnsToDisplay = 10\n",
    "\n",
    "def analyseAndDisplayReport(reportName): \n",
    "    report = ore.getReport(reportName)\n",
    "    utilities.checkReportStructure(reportName, report)\n",
    "    display(utilities.format_report(report).iloc[:nbLinesToDisplay, : nbColumnsToDisplay])\n",
    "interact(analyseAndDisplayReport, reportName=list(ore.getReportNames()))"
   ]
  }
 ],
 "metadata": {
  "anaconda-cloud": {},
  "extensions": {
   "jupyter_dashboards": {
    "activeView": "report_default",
    "version": 1,
    "views": {
     "grid_default": {
      "cellMargin": 10,
      "defaultCellHeight": 20,
      "maxColumns": 12,
      "name": "grid",
      "type": "grid"
     },
     "report_default": {
      "name": "report",
      "type": "report"
     }
    }
   }
  },
  "kernelspec": {
   "display_name": "Python 3 (ipykernel)",
   "language": "python",
   "name": "python3"
  },
  "language_info": {
   "codemirror_mode": {
    "name": "ipython",
    "version": 3
   },
   "file_extension": ".py",
   "mimetype": "text/x-python",
   "name": "python",
   "nbconvert_exporter": "python",
   "pygments_lexer": "ipython3",
   "version": "3.11.9"
  },
  "widgets": {
   "state": {
    "706c717787fc48baacd29c35c5b92bba": {
     "views": [
      {
       "cell_index": 13
      }
     ]
    }
   },
   "version": "1.2.0"
  }
 },
 "nbformat": 4,
 "nbformat_minor": 4
}
