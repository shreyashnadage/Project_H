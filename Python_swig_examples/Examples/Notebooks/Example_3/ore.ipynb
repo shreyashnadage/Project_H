{
 "cells": [
  {
   "cell_type": "markdown",
   "metadata": {
    "extensions": {
     "jupyter_dashboards": {
      "version": 1,
      "views": {
       "grid_default": {
        "col": 0,
        "height": 4,
        "hidden": true,
        "row": 20,
        "width": 4
       },
       "report_default": {
        "hidden": false
       }
      }
     }
    },
    "tags": []
   },
   "source": [
    "\n",
    "# Performance: American Monte Carlo and Multi-threading"
   ]
  },
  {
   "cell_type": "markdown",
   "metadata": {
    "extensions": {
     "jupyter_dashboards": {
      "version": 1,
      "views": {
       "grid_default": {
        "col": 4,
        "height": 4,
        "hidden": true,
        "row": 26,
        "width": 4
       },
       "report_default": {
        "hidden": false
       }
      }
     }
    },
    "tags": []
   },
   "source": [
    "To process realistic portfolios, ORE provides a few features that help keeping run times under control\n",
    "1. **American Monte Carlo (AMC)** to accelerate exposure simulation for complex, but also vanilla products\n",
    "2. **Multi-threading** to parallelise the NPV cube generation, utilising the CPU's cores\n",
    "\n",
    "This notebook demonstrates both techniches and how they are configured in ORE.\n",
    "\n",
    "Prerequisites:\n",
    "- Python 3\n",
    "- Jupyter\n",
    "- ORE Python module installed: run \"pip install open-source-risk-engine\" to get the latest version"
   ]
  },
  {
   "cell_type": "markdown",
   "metadata": {
    "extensions": {
     "jupyter_dashboards": {
      "version": 1,
      "views": {
       "grid_default": {
        "col": 0,
        "height": 2,
        "hidden": false,
        "row": 0,
        "width": 12
       },
       "report_default": {
        "hidden": false
       }
      }
     }
    }
   },
   "source": [
    "## Bermudan Swaption Performance: Classic vs AMC\n",
    "\n",
    "Case:\n",
    "- **Single Bermudan Swaption**, underlying Swap maturity 20y, 15 annual exercise dates from year 5 onwards. \n",
    "- Coarse simulation grid with 88 quarterly time steps"
   ]
  },
  {
   "cell_type": "markdown",
   "metadata": {
    "extensions": {
     "jupyter_dashboards": {
      "version": 1,
      "views": {
       "grid_default": {
        "col": 0,
        "height": 4,
        "hidden": true,
        "row": 12,
        "width": 12
       },
       "report_default": {
        "hidden": false
       }
      }
     }
    },
    "tags": []
   },
   "source": [
    "### Classic Simulation\n",
    "\n",
    "- Generate the market paths by Monte Carlo simulation in the ORE Cross Asset Model\n",
    "- The trade is priced under scenarios with a numerical engine (LGM grid engine in this case) which computes each Bermudan price in the cube with the usual backward induction on a numerical grid\n",
    "- The pricing model is *not* recalibrated each time, just upfront\n",
    "- **100 paths**, for moderate run time with the classic simulation in this demo"
   ]
  },
  {
   "cell_type": "code",
   "execution_count": null,
   "metadata": {
    "extensions": {
     "jupyter_dashboards": {
      "version": 1,
      "views": {
       "grid_default": {
        "hidden": true
       },
       "report_default": {
        "hidden": true
       }
      }
     }
    },
    "scrolled": true
   },
   "outputs": [],
   "source": [
    "from ORE import *\n",
    "import sys, time, math\n",
    "sys.path.append('..')\n",
    "import utilities\n",
    "\n",
    "params = Parameters()\n",
    "params.fromFile(\"Input/ore_classic.xml\")\n",
    "\n",
    "ore = OREApp(params)\n",
    "\n",
    "ore.run()\n",
    "\n",
    "utilities.checkErrorsAndRunTime(ore)"
   ]
  },
  {
   "cell_type": "code",
   "execution_count": null,
   "metadata": {
    "extensions": {
     "jupyter_dashboards": {
      "version": 1,
      "views": {
       "grid_default": {
        "col": 0,
        "height": 7,
        "hidden": false,
        "row": 9,
        "width": 12
       },
       "report_default": {
        "hidden": true
       }
      }
     }
    }
   },
   "outputs": [],
   "source": [
    "utilities.writeList(ore.getReportNames())"
   ]
  },
  {
   "cell_type": "code",
   "execution_count": null,
   "metadata": {
    "extensions": {
     "jupyter_dashboards": {
      "version": 1,
      "views": {
       "grid_default": {
        "col": 0,
        "height": 7,
        "hidden": false,
        "row": 9,
        "width": 12
       },
       "report_default": {
        "hidden": true
       }
      }
     }
    },
    "tags": []
   },
   "outputs": [],
   "source": [
    "keyNumber = 0 # key 0 corresponds to EONIA, compare to file header\n",
    "numberOfPaths = 20\n",
    "# Pick the t0 index fixing and pass it to the plot function below as starting point\n",
    "analytic = ore.getAnalytic(\"XVA\")\n",
    "market = analytic.getMarket()\n",
    "eoniaIndex = market.iborIndex(\"EUR-EONIA\")\n",
    "fixing = eoniaIndex.fixing(ore.getInputs().asof())\n",
    "utilities.plotScenarioDataPaths(\"Output/scenariodata.csv.gz\", keyNumber, numberOfPaths, fixing)"
   ]
  },
  {
   "cell_type": "code",
   "execution_count": null,
   "metadata": {
    "extensions": {
     "jupyter_dashboards": {
      "version": 1,
      "views": {
       "grid_default": {
        "col": 0,
        "height": 7,
        "hidden": false,
        "row": 9,
        "width": 12
       },
       "report_default": {
        "hidden": true
       }
      }
     }
    }
   },
   "outputs": [],
   "source": [
    "cubeReport = ore.getReport(\"netcube\")\n",
    "numberOfPaths = 20\n",
    "utilities.plotNpvPaths(cubeReport, numberOfPaths)"
   ]
  },
  {
   "cell_type": "code",
   "execution_count": null,
   "metadata": {},
   "outputs": [],
   "source": [
    "report = ore.getReport(\"exposure_trade_BermSwp\")\n",
    "\n",
    "time = report.dataAsReal(2)\n",
    "epe = report.dataAsReal(3);\n",
    "ene = report.dataAsReal(4);\n",
    "    \n",
    "import matplotlib.pyplot as plt\n",
    "from matplotlib.gridspec import GridSpec\n",
    "\n",
    "fig = plt.figure(figsize=(10, 5))\n",
    "gs = GridSpec(nrows=1, ncols=1)\n",
    "ax0 = fig.add_subplot(gs[0, 0])\n",
    "\n",
    "ax0.plot(time, epe, label='EPE')\n",
    "ax0.plot(time, ene, label='ENE')\n",
    "ax0.set(xlabel='Time/Years')\n",
    "ax0.set(ylabel='Exposure')\n",
    "ax0.set_title('Bermudan Exposure with 100 paths')\n",
    "ax0.legend()\n",
    "\n",
    "plt.show()"
   ]
  },
  {
   "cell_type": "markdown",
   "metadata": {
    "extensions": {
     "jupyter_dashboards": {
      "version": 1,
      "views": {
       "grid_default": {
        "col": 0,
        "height": 4,
        "hidden": true,
        "row": 12,
        "width": 12
       },
       "report_default": {
        "hidden": false
       }
      }
     }
    },
    "tags": []
   },
   "source": [
    "### American Monte Carlo Simulation\n",
    "\n",
    "Leased Squares or American Monte Carlo algorithm in a nutshell:\n",
    "- Generate Monte Carlo scenarios of the market evotion as in the classic simulation\n",
    "- For the backward induction algorithm we then need continuation values on each path (conditional expectations of future values) and at each exercise time\n",
    "- In the absence of a lattice, the AMC algortihm resorts to the information across paths and computes these conditional expectations via regression\n",
    "- in ORE we use model states on the paths as regressors and perform linear regressions to determine the polynomial form of the regression fucntions  \n",
    "- The valuation effort is determined by valuations of the underlying (vanilla) trade, plus the effort of estimating the regression functions and using them to compute conditional expectations\n",
    "- We do two separate valuation sweeps, a first one for taining and determining the regression functions for each exercise date, a second sweep for the backward induction using the regression functions from sweep 1\n",
    "- **10000** paths for training and backward induction (vs **100** paths in the classic simulation above)"
   ]
  },
  {
   "cell_type": "code",
   "execution_count": null,
   "metadata": {
    "extensions": {
     "jupyter_dashboards": {
      "version": 1,
      "views": {
       "grid_default": {
        "hidden": true
       },
       "report_default": {
        "hidden": true
       }
      }
     }
    },
    "scrolled": true
   },
   "outputs": [],
   "source": [
    "params_amc = Parameters()\n",
    "params_amc.fromFile(\"Input/ore_amc.xml\")\n",
    "ore_amc = OREApp(params_amc, False)\n",
    "      \n",
    "ore_amc.run()\n",
    "\n",
    "utilities.checkErrorsAndRunTime(ore_amc)"
   ]
  },
  {
   "cell_type": "code",
   "execution_count": null,
   "metadata": {
    "extensions": {
     "jupyter_dashboards": {
      "version": 1,
      "views": {
       "grid_default": {
        "col": 0,
        "height": 7,
        "hidden": false,
        "row": 9,
        "width": 12
       },
       "report_default": {
        "hidden": true
       }
      }
     }
    }
   },
   "outputs": [],
   "source": [
    "utilities.writeList(ore_amc.getReportNames())"
   ]
  },
  {
   "cell_type": "code",
   "execution_count": null,
   "metadata": {},
   "outputs": [],
   "source": [
    "report_amc = ore_amc.getReport(\"exposure_trade_BermSwp\")\n",
    "\n",
    "time = report_amc.dataAsReal(2)\n",
    "epe = report_amc.dataAsReal(3);\n",
    "ene = report_amc.dataAsReal(4);\n",
    "    \n",
    "import matplotlib.pyplot as plt\n",
    "from matplotlib.gridspec import GridSpec\n",
    "\n",
    "fig = plt.figure(figsize=(10, 5))\n",
    "gs = GridSpec(nrows=1, ncols=1)\n",
    "ax0 = fig.add_subplot(gs[0, 0])\n",
    "\n",
    "ax0.plot(time, epe, label='EPE')\n",
    "ax0.plot(time, ene, label='ENE')\n",
    "ax0.set(xlabel='Time/Years')\n",
    "ax0.set(ylabel='Exposure')\n",
    "ax0.set_title('Bermudan Exposure with 10,000 paths')\n",
    "ax0.legend()\n",
    "\n",
    "plt.show()"
   ]
  },
  {
   "cell_type": "markdown",
   "metadata": {
    "extensions": {
     "jupyter_dashboards": {
      "version": 1,
      "views": {
       "grid_default": {
        "col": 0,
        "height": 2,
        "hidden": false,
        "row": 0,
        "width": 12
       },
       "report_default": {
        "hidden": false
       }
      }
     }
    }
   },
   "source": [
    "## Swap Portfolio Performance: Single vs. multi-threaded\n",
    "\n",
    "Case\n",
    "- Portfolio of **50** identical Swaps, 20 year maturity\n",
    "- **Classic** exposure simulation\n",
    "- **200 paths** (for moderate single-threaded run time)\n",
    "- Simulation grid with 80 quarterly steps"
   ]
  },
  {
   "cell_type": "markdown",
   "metadata": {
    "extensions": {
     "jupyter_dashboards": {
      "version": 1,
      "views": {
       "grid_default": {
        "col": 0,
        "height": 4,
        "hidden": true,
        "row": 12,
        "width": 12
       },
       "report_default": {
        "hidden": false
       }
      }
     }
    },
    "tags": []
   },
   "source": [
    "### Single Thread"
   ]
  },
  {
   "cell_type": "code",
   "execution_count": null,
   "metadata": {},
   "outputs": [],
   "source": [
    "params = Parameters()\n",
    "params.fromFile(\"Input/ore_swaps.xml\")\n",
    "\n",
    "ore_swaps = OREApp(params, False)\n",
    "\n",
    "ore_swaps.run()\n",
    "\n",
    "utilities.checkErrorsAndRunTime(ore_swaps)"
   ]
  },
  {
   "cell_type": "code",
   "execution_count": null,
   "metadata": {
    "tags": []
   },
   "outputs": [],
   "source": [
    "portfolio = ore_swaps.getInputs().portfolio()\n",
    "print(\"trades:\", portfolio.size())\n",
    "inputs = ore_swaps.getInputs()\n",
    "print (\"threads:\", inputs.nThreads())"
   ]
  },
  {
   "cell_type": "markdown",
   "metadata": {
    "extensions": {
     "jupyter_dashboards": {
      "version": 1,
      "views": {
       "grid_default": {
        "col": 0,
        "height": 4,
        "hidden": true,
        "row": 12,
        "width": 12
       },
       "report_default": {
        "hidden": false
       }
      }
     }
    },
    "tags": []
   },
   "source": [
    "### Multiple Threads\n",
    "\n",
    "ORE is based on QuantLib which is not thread-safe. Nevertheless, it is possible in ORE to parallelise the processing and utilise the available CPU cores (if you configure the ORE build with QL_ENABLE_SESSIONS=ON). \n",
    "\n",
    "All scenario-based risk analytics in ORE such as \n",
    "- Sensitivity analysis\n",
    "- Historical simulation\n",
    "- Monte Carlo simulation \n",
    "\n",
    "use a central ValuationEngine object which loops over scenarios, dates and trades and then applies pricing and cashflow analytics. The multi-threaded version of the ValuationEngine spawns threads, provides each thread with a **part of the portfolio** and its **own market objects**. The markets are built from scratch for each thread which causes some overhead. We plan to clone market objects instead to reduce the overhead. \n",
    "\n",
    "The threads then operate on completely separate objects, much like separate processes, because of QuantLib's inherent \"thread-unsafety\". Because of the overhead it is essential that each thread has a sufficiently sized or complex portfolio and sufficient number of scenarios to process, in order to see a multi-threading benefit. \n",
    "\n",
    "We demonstrate the benefit of multi-threading by running again with 4 threads:"
   ]
  },
  {
   "cell_type": "code",
   "execution_count": null,
   "metadata": {
    "tags": []
   },
   "outputs": [],
   "source": [
    "inputs.setThreads(4)\n",
    "print (\"threads:\", inputs.nThreads())"
   ]
  },
  {
   "cell_type": "code",
   "execution_count": null,
   "metadata": {
    "tags": []
   },
   "outputs": [],
   "source": [
    "ore_swaps.run()\n",
    "utilities.checkErrorsAndRunTime(ore_swaps)"
   ]
  },
  {
   "cell_type": "markdown",
   "metadata": {
    "extensions": {
     "jupyter_dashboards": {
      "version": 1,
      "views": {
       "grid_default": {
        "col": 0,
        "height": 2,
        "hidden": false,
        "row": 0,
        "width": 12
       },
       "report_default": {
        "hidden": false
       }
      }
     }
    }
   },
   "source": [
    "## Bermudan Swaption Portfolio Performance: Single vs. multi-threaded\n",
    "\n",
    "Case\n",
    "- Portfolio of **20** identical Bermudan Swaptions\n",
    "- **AMC** exposure simulation\n",
    "- **10,000 paths**\n",
    "- Simulation grid with 80 quarterly steps"
   ]
  },
  {
   "cell_type": "code",
   "execution_count": null,
   "metadata": {},
   "outputs": [],
   "source": [
    "params = Parameters()\n",
    "params.fromFile(\"Input/ore_bermudans.xml\")\n",
    "\n",
    "ore_bermudans = OREApp(params, False)\n",
    "\n",
    "ore_bermudans.run()\n",
    "\n",
    "utilities.checkErrorsAndRunTime(ore_bermudans)"
   ]
  },
  {
   "cell_type": "code",
   "execution_count": null,
   "metadata": {},
   "outputs": [],
   "source": [
    "portfolio = ore_bermudans.getInputs().portfolio()\n",
    "print(\"trades:\", portfolio.size())\n",
    "inputs = ore_bermudans.getInputs()\n",
    "print (\"threads:\", inputs.nThreads())"
   ]
  },
  {
   "cell_type": "code",
   "execution_count": null,
   "metadata": {
    "tags": []
   },
   "outputs": [],
   "source": [
    "inputs.setThreads(4)\n",
    "print (\"threads:\", inputs.nThreads())"
   ]
  },
  {
   "cell_type": "code",
   "execution_count": null,
   "metadata": {
    "tags": []
   },
   "outputs": [],
   "source": [
    "ore_bermudans.run()\n",
    "utilities.checkErrorsAndRunTime(ore_bermudans)"
   ]
  },
  {
   "cell_type": "code",
   "execution_count": null,
   "metadata": {
    "tags": []
   },
   "outputs": [],
   "source": []
  },
  {
   "cell_type": "code",
   "execution_count": null,
   "metadata": {},
   "outputs": [],
   "source": []
  },
  {
   "cell_type": "code",
   "execution_count": null,
   "metadata": {},
   "outputs": [],
   "source": []
  }
 ],
 "metadata": {
  "anaconda-cloud": {},
  "extensions": {
   "jupyter_dashboards": {
    "activeView": "report_default",
    "version": 1,
    "views": {
     "grid_default": {
      "cellMargin": 10,
      "defaultCellHeight": 20,
      "maxColumns": 12,
      "name": "grid",
      "type": "grid"
     },
     "report_default": {
      "name": "report",
      "type": "report"
     }
    }
   }
  },
  "kernelspec": {
   "display_name": "Python 3 (ipykernel)",
   "language": "python",
   "name": "python3"
  },
  "language_info": {
   "codemirror_mode": {
    "name": "ipython",
    "version": 3
   },
   "file_extension": ".py",
   "mimetype": "text/x-python",
   "name": "python",
   "nbconvert_exporter": "python",
   "pygments_lexer": "ipython3",
   "version": "3.11.4"
  },
  "widgets": {
   "state": {
    "706c717787fc48baacd29c35c5b92bba": {
     "views": [
      {
       "cell_index": 13
      }
     ]
    }
   },
   "version": "1.2.0"
  }
 },
 "nbformat": 4,
 "nbformat_minor": 4
}
