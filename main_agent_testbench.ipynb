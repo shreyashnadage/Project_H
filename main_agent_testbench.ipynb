{
 "cells": [
  {
   "cell_type": "code",
   "execution_count": 1,
   "metadata": {},
   "outputs": [],
   "source": [
    "\n",
    "import inspect\n",
    "from langchain_core.messages import HumanMessage, SystemMessage\n",
    "from langchain_anthropic import ChatAnthropic\n",
    "from langgraph.prebuilt import create_react_agent\n",
    "from react_agent_system_prompts import *\n",
    "from members_details import members\n",
    "import getpass\n",
    "import os\n",
    "import shutil\n",
    "from dotenv import load_dotenv, find_dotenv\n",
    "load_dotenv(find_dotenv(), override = True)\n",
    "\n",
    "\n",
    "\n",
    "def copy_directory(src_dir):\n",
    "    dst_dir= os.path.basename(src_dir)+'new'\n",
    "    dst_dir = os.path.join(os.path.dirname(src_dir), dst_dir)\n",
    "\n",
    "    if not os.path.exists(dst_dir):\n",
    "        os.makedirs(dst_dir)\n",
    "    for item in os.listdir(src_dir):\n",
    "        s = os.path.join(src_dir, item)\n",
    "        d = os.path.join(dst_dir, item)\n",
    "        shutil.copy2(s, d)\n",
    "\n",
    "def _set_env(var: str):\n",
    "    if not os.environ.get(var):\n",
    "        os.environ[var] = getpass.getpass(f\"{var}: \")\n",
    "\n",
    "def print_stream(stream):\n",
    "    for s in stream:\n",
    "        message = s[\"messages\"][-1]\n",
    "        if isinstance(message, tuple):\n",
    "            print(message)\n",
    "        else:\n",
    "            message.pretty_print()\n",
    "\n",
    "\n",
    "from langchain_core.messages import HumanMessage\n",
    "from langchain_anthropic import ChatAnthropic\n",
    "from supervisor_node import make_supervisor_node\n",
    "from ore_xml_agent import ore_xml_agent_node\n",
    "from langgraph.graph import StateGraph, MessagesState, START\n",
    "from sensitivity_agent import sensitivity_agent_node\n",
    "from ore_execution_agent import ore_execution_agent_node\n",
    "from ExtendedState import State\n",
    "\n",
    "\n",
    "llm = ChatAnthropic(\n",
    "    model=\"claude-3-5-haiku-latest\",\n",
    "    temperature=0,\n",
    "    timeout=None,\n",
    "    max_retries=2,\n",
    "    # other params...\n",
    ")\n",
    "\n",
    "main_supervisor_node = make_supervisor_node(llm=llm, state=State, members=members)\n",
    "\n",
    "main_agent_builder = StateGraph(State)\n",
    "main_agent_builder.add_node(\"supervisor\", main_supervisor_node)\n",
    "main_agent_builder.add_node(\"ore_xml_agent\", ore_xml_agent_node)\n",
    "main_agent_builder.add_node(\"sensitivity_agent\", sensitivity_agent_node)\n",
    "main_agent_builder.add_node(\"ore_execution_agent\", ore_execution_agent_node)\n",
    "\n",
    "main_agent_builder.add_edge(START, \"supervisor\")\n",
    "main_graph = main_agent_builder.compile()\n",
    "\n",
    "\n"
   ]
  },
  {
   "cell_type": "code",
   "execution_count": 4,
   "metadata": {},
   "outputs": [],
   "source": [
    "# from react_agent_system_prompts import supervisor_system_prompt\n",
    "# from members_details import members\n",
    "# members_str = '\\n'.join([f\"{key}: {value}\" for key, value in members.items()])\n",
    "# print(supervisor_system_prompt.format(members=members_str))\n"
   ]
  },
  {
   "cell_type": "code",
   "execution_count": 2,
   "metadata": {},
   "outputs": [
    {
     "name": "stdout",
     "output_type": "stream",
     "text": [
      "                                                +-----------+                                             \n",
      "                                                | __start__ |                                             \n",
      "                                                +-----------+                                             \n",
      "                                                      *                                                   \n",
      "                                                      *                                                   \n",
      "                                                      *                                                   \n",
      "                                               +------------+                                             \n",
      "                                            ...| supervisor |.....                                        \n",
      "                                    ........   +------------+.    ........                                \n",
      "                            ........         ...              ...         ........                        \n",
      "                    ........               ..                    ...              ........                \n",
      "                ....                     ..                         ..                    .....           \n",
      "+---------------+           +-------------------+           +---------------------+           +---------+ \n",
      "| ore_xml_agent |           | sensitivity_agent |           | ore_execution_agent |           | __end__ | \n",
      "+---------------+           +-------------------+           +---------------------+           +---------+ \n",
      "None\n"
     ]
    },
    {
     "ename": "KeyError",
     "evalue": "'task'",
     "output_type": "error",
     "traceback": [
      "\u001b[31m---------------------------------------------------------------------------\u001b[39m",
      "\u001b[31mKeyError\u001b[39m                                  Traceback (most recent call last)",
      "\u001b[36mCell\u001b[39m\u001b[36m \u001b[39m\u001b[32mIn[2]\u001b[39m\u001b[32m, line 4\u001b[39m\n\u001b[32m      1\u001b[39m ascii_representation = main_graph.get_graph().print_ascii()\n\u001b[32m      2\u001b[39m \u001b[38;5;28mprint\u001b[39m(ascii_representation)\n\u001b[32m----> \u001b[39m\u001b[32m4\u001b[39m \u001b[38;5;28;43;01mfor\u001b[39;49;00m\u001b[43m \u001b[49m\u001b[43ms\u001b[49m\u001b[43m \u001b[49m\u001b[38;5;129;43;01min\u001b[39;49;00m\u001b[43m \u001b[49m\u001b[43mmain_graph\u001b[49m\u001b[43m.\u001b[49m\u001b[43mstream\u001b[49m\u001b[43m(\u001b[49m\n\u001b[32m      5\u001b[39m \u001b[43m    \u001b[49m\u001b[43m{\u001b[49m\u001b[33;43m\"\u001b[39;49m\u001b[33;43mmessages\u001b[39;49m\u001b[33;43m\"\u001b[39;49m\u001b[43m:\u001b[49m\u001b[43m \u001b[49m\u001b[43m[\u001b[49m\u001b[43m(\u001b[49m\u001b[33;43m\"\u001b[39;49m\u001b[33;43muser\u001b[39;49m\u001b[33;43m\"\u001b[39;49m\u001b[43m,\u001b[49m\u001b[43m \u001b[49m\u001b[33;43m\"\u001b[39;49m\u001b[33;43mWhat is shock applied to EUR discounting curve. After that run the ore to compute npv results.\u001b[39;49m\u001b[33;43m\"\u001b[39;49m\u001b[43m)\u001b[49m\u001b[43m]\u001b[49m\u001b[43m}\u001b[49m\n\u001b[32m      6\u001b[39m \u001b[43m)\u001b[49m\u001b[43m:\u001b[49m\n\u001b[32m      7\u001b[39m \u001b[43m    \u001b[49m\u001b[38;5;28;43mprint\u001b[39;49m\u001b[43m(\u001b[49m\u001b[43ms\u001b[49m\u001b[43m)\u001b[49m\n\u001b[32m      8\u001b[39m \u001b[43m    \u001b[49m\u001b[38;5;28;43mprint\u001b[39;49m\u001b[43m(\u001b[49m\u001b[33;43m\"\u001b[39;49m\u001b[33;43m---\u001b[39;49m\u001b[33;43m\"\u001b[39;49m\u001b[43m)\u001b[49m\n",
      "\u001b[36mFile \u001b[39m\u001b[32mc:\\Users\\shrey\\anaconda3\\envs\\ore_test\\Lib\\site-packages\\langgraph\\pregel\\__init__.py:2024\u001b[39m, in \u001b[36mPregel.stream\u001b[39m\u001b[34m(self, input, config, stream_mode, output_keys, interrupt_before, interrupt_after, debug, subgraphs)\u001b[39m\n\u001b[32m   2018\u001b[39m     \u001b[38;5;66;03m# Similarly to Bulk Synchronous Parallel / Pregel model\u001b[39;00m\n\u001b[32m   2019\u001b[39m     \u001b[38;5;66;03m# computation proceeds in steps, while there are channel updates.\u001b[39;00m\n\u001b[32m   2020\u001b[39m     \u001b[38;5;66;03m# Channel updates from step N are only visible in step N+1\u001b[39;00m\n\u001b[32m   2021\u001b[39m     \u001b[38;5;66;03m# channels are guaranteed to be immutable for the duration of the step,\u001b[39;00m\n\u001b[32m   2022\u001b[39m     \u001b[38;5;66;03m# with channel updates applied only at the transition between steps.\u001b[39;00m\n\u001b[32m   2023\u001b[39m     \u001b[38;5;28;01mwhile\u001b[39;00m loop.tick(input_keys=\u001b[38;5;28mself\u001b[39m.input_channels):\n\u001b[32m-> \u001b[39m\u001b[32m2024\u001b[39m \u001b[43m        \u001b[49m\u001b[38;5;28;43;01mfor\u001b[39;49;00m\u001b[43m \u001b[49m\u001b[43m_\u001b[49m\u001b[43m \u001b[49m\u001b[38;5;129;43;01min\u001b[39;49;00m\u001b[43m \u001b[49m\u001b[43mrunner\u001b[49m\u001b[43m.\u001b[49m\u001b[43mtick\u001b[49m\u001b[43m(\u001b[49m\n\u001b[32m   2025\u001b[39m \u001b[43m            \u001b[49m\u001b[43mloop\u001b[49m\u001b[43m.\u001b[49m\u001b[43mtasks\u001b[49m\u001b[43m.\u001b[49m\u001b[43mvalues\u001b[49m\u001b[43m(\u001b[49m\u001b[43m)\u001b[49m\u001b[43m,\u001b[49m\n\u001b[32m   2026\u001b[39m \u001b[43m            \u001b[49m\u001b[43mtimeout\u001b[49m\u001b[43m=\u001b[49m\u001b[38;5;28;43mself\u001b[39;49m\u001b[43m.\u001b[49m\u001b[43mstep_timeout\u001b[49m\u001b[43m,\u001b[49m\n\u001b[32m   2027\u001b[39m \u001b[43m            \u001b[49m\u001b[43mretry_policy\u001b[49m\u001b[43m=\u001b[49m\u001b[38;5;28;43mself\u001b[39;49m\u001b[43m.\u001b[49m\u001b[43mretry_policy\u001b[49m\u001b[43m,\u001b[49m\n\u001b[32m   2028\u001b[39m \u001b[43m            \u001b[49m\u001b[43mget_waiter\u001b[49m\u001b[43m=\u001b[49m\u001b[43mget_waiter\u001b[49m\u001b[43m,\u001b[49m\n\u001b[32m   2029\u001b[39m \u001b[43m        \u001b[49m\u001b[43m)\u001b[49m\u001b[43m:\u001b[49m\n\u001b[32m   2030\u001b[39m \u001b[43m            \u001b[49m\u001b[38;5;66;43;03m# emit output\u001b[39;49;00m\n\u001b[32m   2031\u001b[39m \u001b[43m            \u001b[49m\u001b[38;5;28;43;01myield from\u001b[39;49;00m\u001b[43m \u001b[49m\u001b[43moutput\u001b[49m\u001b[43m(\u001b[49m\u001b[43m)\u001b[49m\n\u001b[32m   2032\u001b[39m \u001b[38;5;66;03m# emit output\u001b[39;00m\n",
      "\u001b[36mFile \u001b[39m\u001b[32mc:\\Users\\shrey\\anaconda3\\envs\\ore_test\\Lib\\site-packages\\langgraph\\pregel\\runner.py:230\u001b[39m, in \u001b[36mPregelRunner.tick\u001b[39m\u001b[34m(self, tasks, reraise, timeout, retry_policy, get_waiter)\u001b[39m\n\u001b[32m    228\u001b[39m t = tasks[\u001b[32m0\u001b[39m]\n\u001b[32m    229\u001b[39m \u001b[38;5;28;01mtry\u001b[39;00m:\n\u001b[32m--> \u001b[39m\u001b[32m230\u001b[39m     \u001b[43mrun_with_retry\u001b[49m\u001b[43m(\u001b[49m\n\u001b[32m    231\u001b[39m \u001b[43m        \u001b[49m\u001b[43mt\u001b[49m\u001b[43m,\u001b[49m\n\u001b[32m    232\u001b[39m \u001b[43m        \u001b[49m\u001b[43mretry_policy\u001b[49m\u001b[43m,\u001b[49m\n\u001b[32m    233\u001b[39m \u001b[43m        \u001b[49m\u001b[43mconfigurable\u001b[49m\u001b[43m=\u001b[49m\u001b[43m{\u001b[49m\n\u001b[32m    234\u001b[39m \u001b[43m            \u001b[49m\u001b[43mCONFIG_KEY_SEND\u001b[49m\u001b[43m:\u001b[49m\u001b[43m \u001b[49m\u001b[43mpartial\u001b[49m\u001b[43m(\u001b[49m\u001b[43mwriter\u001b[49m\u001b[43m,\u001b[49m\u001b[43m \u001b[49m\u001b[43mt\u001b[49m\u001b[43m)\u001b[49m\u001b[43m,\u001b[49m\n\u001b[32m    235\u001b[39m \u001b[43m            \u001b[49m\u001b[43mCONFIG_KEY_CALL\u001b[49m\u001b[43m:\u001b[49m\u001b[43m \u001b[49m\u001b[43mpartial\u001b[49m\u001b[43m(\u001b[49m\u001b[43mcall\u001b[49m\u001b[43m,\u001b[49m\u001b[43m \u001b[49m\u001b[43mt\u001b[49m\u001b[43m)\u001b[49m\u001b[43m,\u001b[49m\n\u001b[32m    236\u001b[39m \u001b[43m        \u001b[49m\u001b[43m}\u001b[49m\u001b[43m,\u001b[49m\n\u001b[32m    237\u001b[39m \u001b[43m    \u001b[49m\u001b[43m)\u001b[49m\n\u001b[32m    238\u001b[39m     \u001b[38;5;28mself\u001b[39m.commit(t, \u001b[38;5;28;01mNone\u001b[39;00m)\n\u001b[32m    239\u001b[39m \u001b[38;5;28;01mexcept\u001b[39;00m \u001b[38;5;167;01mException\u001b[39;00m \u001b[38;5;28;01mas\u001b[39;00m exc:\n",
      "\u001b[36mFile \u001b[39m\u001b[32mc:\\Users\\shrey\\anaconda3\\envs\\ore_test\\Lib\\site-packages\\langgraph\\pregel\\retry.py:40\u001b[39m, in \u001b[36mrun_with_retry\u001b[39m\u001b[34m(task, retry_policy, configurable)\u001b[39m\n\u001b[32m     38\u001b[39m     task.writes.clear()\n\u001b[32m     39\u001b[39m     \u001b[38;5;66;03m# run the task\u001b[39;00m\n\u001b[32m---> \u001b[39m\u001b[32m40\u001b[39m     \u001b[38;5;28;01mreturn\u001b[39;00m \u001b[43mtask\u001b[49m\u001b[43m.\u001b[49m\u001b[43mproc\u001b[49m\u001b[43m.\u001b[49m\u001b[43minvoke\u001b[49m\u001b[43m(\u001b[49m\u001b[43mtask\u001b[49m\u001b[43m.\u001b[49m\u001b[43minput\u001b[49m\u001b[43m,\u001b[49m\u001b[43m \u001b[49m\u001b[43mconfig\u001b[49m\u001b[43m)\u001b[49m\n\u001b[32m     41\u001b[39m \u001b[38;5;28;01mexcept\u001b[39;00m ParentCommand \u001b[38;5;28;01mas\u001b[39;00m exc:\n\u001b[32m     42\u001b[39m     ns: \u001b[38;5;28mstr\u001b[39m = config[CONF][CONFIG_KEY_CHECKPOINT_NS]\n",
      "\u001b[36mFile \u001b[39m\u001b[32mc:\\Users\\shrey\\anaconda3\\envs\\ore_test\\Lib\\site-packages\\langgraph\\utils\\runnable.py:546\u001b[39m, in \u001b[36mRunnableSeq.invoke\u001b[39m\u001b[34m(self, input, config, **kwargs)\u001b[39m\n\u001b[32m    542\u001b[39m config = patch_config(\n\u001b[32m    543\u001b[39m     config, callbacks=run_manager.get_child(\u001b[33mf\u001b[39m\u001b[33m\"\u001b[39m\u001b[33mseq:step:\u001b[39m\u001b[38;5;132;01m{\u001b[39;00mi\u001b[38;5;250m \u001b[39m+\u001b[38;5;250m \u001b[39m\u001b[32m1\u001b[39m\u001b[38;5;132;01m}\u001b[39;00m\u001b[33m\"\u001b[39m)\n\u001b[32m    544\u001b[39m )\n\u001b[32m    545\u001b[39m \u001b[38;5;28;01mif\u001b[39;00m i == \u001b[32m0\u001b[39m:\n\u001b[32m--> \u001b[39m\u001b[32m546\u001b[39m     \u001b[38;5;28minput\u001b[39m = \u001b[43mstep\u001b[49m\u001b[43m.\u001b[49m\u001b[43minvoke\u001b[49m\u001b[43m(\u001b[49m\u001b[38;5;28;43minput\u001b[39;49m\u001b[43m,\u001b[49m\u001b[43m \u001b[49m\u001b[43mconfig\u001b[49m\u001b[43m,\u001b[49m\u001b[43m \u001b[49m\u001b[43m*\u001b[49m\u001b[43m*\u001b[49m\u001b[43mkwargs\u001b[49m\u001b[43m)\u001b[49m\n\u001b[32m    547\u001b[39m \u001b[38;5;28;01melse\u001b[39;00m:\n\u001b[32m    548\u001b[39m     \u001b[38;5;28minput\u001b[39m = step.invoke(\u001b[38;5;28minput\u001b[39m, config)\n",
      "\u001b[36mFile \u001b[39m\u001b[32mc:\\Users\\shrey\\anaconda3\\envs\\ore_test\\Lib\\site-packages\\langgraph\\utils\\runnable.py:310\u001b[39m, in \u001b[36mRunnableCallable.invoke\u001b[39m\u001b[34m(self, input, config, **kwargs)\u001b[39m\n\u001b[32m    308\u001b[39m \u001b[38;5;28;01melse\u001b[39;00m:\n\u001b[32m    309\u001b[39m     context.run(_set_config_context, config)\n\u001b[32m--> \u001b[39m\u001b[32m310\u001b[39m     ret = \u001b[43mcontext\u001b[49m\u001b[43m.\u001b[49m\u001b[43mrun\u001b[49m\u001b[43m(\u001b[49m\u001b[38;5;28;43mself\u001b[39;49m\u001b[43m.\u001b[49m\u001b[43mfunc\u001b[49m\u001b[43m,\u001b[49m\u001b[43m \u001b[49m\u001b[43m*\u001b[49m\u001b[43margs\u001b[49m\u001b[43m,\u001b[49m\u001b[43m \u001b[49m\u001b[43m*\u001b[49m\u001b[43m*\u001b[49m\u001b[43mkwargs\u001b[49m\u001b[43m)\u001b[49m\n\u001b[32m    311\u001b[39m \u001b[38;5;28;01mif\u001b[39;00m \u001b[38;5;28misinstance\u001b[39m(ret, Runnable) \u001b[38;5;129;01mand\u001b[39;00m \u001b[38;5;28mself\u001b[39m.recurse:\n\u001b[32m    312\u001b[39m     \u001b[38;5;28;01mreturn\u001b[39;00m ret.invoke(\u001b[38;5;28minput\u001b[39m, config)\n",
      "\u001b[36mFile \u001b[39m\u001b[32md:\\Project_H\\supervisor_node.py:32\u001b[39m, in \u001b[36mmake_supervisor_node.<locals>.supervisor_node\u001b[39m\u001b[34m(state)\u001b[39m\n\u001b[32m     29\u001b[39m \u001b[38;5;28;01mif\u001b[39;00m goto == \u001b[33m\"\u001b[39m\u001b[33mFINISH\u001b[39m\u001b[33m\"\u001b[39m:\n\u001b[32m     30\u001b[39m     goto = END\n\u001b[32m---> \u001b[39m\u001b[32m32\u001b[39m \u001b[38;5;28;01mreturn\u001b[39;00m Command(goto=goto, update={\u001b[33m\"\u001b[39m\u001b[33mnext\u001b[39m\u001b[33m\"\u001b[39m: goto, \u001b[33m\"\u001b[39m\u001b[33mtask\u001b[39m\u001b[33m\"\u001b[39m: \u001b[43mresponse\u001b[49m\u001b[43m[\u001b[49m\u001b[33;43m\"\u001b[39;49m\u001b[33;43mtask\u001b[39;49m\u001b[33;43m\"\u001b[39;49m\u001b[43m]\u001b[49m})\n",
      "\u001b[31mKeyError\u001b[39m: 'task'",
      "During task with name 'supervisor' and id '0fbc2bc1-cac8-d4f1-c523-0545697ea6c7'"
     ]
    }
   ],
   "source": [
    "ascii_representation = main_graph.get_graph().print_ascii()\n",
    "print(ascii_representation)\n",
    "\n",
    "for s in main_graph.stream(\n",
    "    {\"messages\": [(\"user\", \"What is shock applied to EUR discounting curve. After that run the ore to compute npv results.\")]}\n",
    "):\n",
    "    print(s)\n",
    "    print(\"---\")"
   ]
  },
  {
   "cell_type": "code",
   "execution_count": 5,
   "metadata": {},
   "outputs": [],
   "source": [
    "from react_agent_system_prompts import ore_execution_agent_system_prompt_content\n",
    "from config_file import file_location_prompt\n",
    "from langchain_core.messages import SystemMessage, HumanMessage\n",
    "from ore_xml_agent import ore_agent\n",
    "from ore_execution_agent import ore_execution_agent\n",
    "from ExtendedState import State\n",
    "from dotenv import load_dotenv, find_dotenv\n",
    "load_dotenv(find_dotenv(), override = True)\n",
    "\n",
    "\n",
    "state = State()\n",
    "state[\"messages\"] = [HumanMessage(content=\"Run the ore to compute npv results.\")]\n",
    "input_messages = {'messages': [SystemMessage(content=ore_execution_agent_system_prompt_content),SystemMessage(content=file_location_prompt)]}\n",
    "messages_list = input_messages[\"messages\"] + state[\"messages\"]\n",
    "messages = {'messages': messages_list}\n",
    "response = ore_execution_agent.invoke(messages)\n",
    "state[\"messages\"] = messages_list + response[\"messages\"]\n"
   ]
  },
  {
   "cell_type": "code",
   "execution_count": 6,
   "metadata": {},
   "outputs": [
    {
     "data": {
      "text/plain": [
       "{'messages': [SystemMessage(content='\\nYou are a react agent that can trigger runs with ORE which is an executable file for ORE (Open Source Risk Engine).\\nYou have tools that can help you run the ORE executable file.\\n', additional_kwargs={}, response_metadata={}, id='d344999a-0789-402a-a9f6-6b344d74e08d'),\n",
       "  SystemMessage(content='files are saved at D:\\\\Project_H\\\\Examples\\\\Example_1\\\\Inputnew \\n\\n file path arguments to the function calls should always contain absolute paths.', additional_kwargs={}, response_metadata={}, id='838dba35-81cc-4771-8473-ade01d7c99d4'),\n",
       "  HumanMessage(content='Run the ore to compute npv results.', additional_kwargs={}, response_metadata={}, id='83d2f094-021c-4e58-98ff-3cfd26dd2159'),\n",
       "  AIMessage(content=[{'text': \"I'll help you run the ORE model to compute NPV results. I'll use the run_ore function with the specific file path for the ore.xml file.\", 'type': 'text'}, {'id': 'toolu_018vct9X7XZCzhCCCCYWEsb1', 'input': {'file_path': 'D:\\\\Project_H\\\\Examples\\\\Example_1\\\\Inputnew\\\\ore.xml'}, 'name': 'run_ore', 'type': 'tool_use'}], additional_kwargs={}, response_metadata={'id': 'msg_01MKAFwhjvt8iPTRBwgZ7sxR', 'model': 'claude-3-5-haiku-20241022', 'stop_reason': 'tool_use', 'stop_sequence': None, 'usage': {'cache_creation_input_tokens': 0, 'cache_read_input_tokens': 0, 'input_tokens': 623, 'output_tokens': 111}, 'model_name': 'claude-3-5-haiku-20241022'}, id='run-9c55e08c-b9fc-4692-b278-8a8b33d267e2-0', tool_calls=[{'name': 'run_ore', 'args': {'file_path': 'D:\\\\Project_H\\\\Examples\\\\Example_1\\\\Inputnew\\\\ore.xml'}, 'id': 'toolu_018vct9X7XZCzhCCCCYWEsb1', 'type': 'tool_call'}], usage_metadata={'input_tokens': 623, 'output_tokens': 111, 'total_tokens': 734, 'input_token_details': {'cache_read': 0, 'cache_creation': 0}}),\n",
       "  ToolMessage(content='ORE run completed successfully.', name='run_ore', id='36e613a9-d1b8-4521-b5c0-d719bc2630a8', tool_call_id='toolu_018vct9X7XZCzhCCCCYWEsb1'),\n",
       "  AIMessage(content=[{'text': \"Now, let's check the available reports:\", 'type': 'text'}, {'id': 'toolu_0129XNsVnWGGkF8Wk4xZmcoZ', 'input': {'file_path': 'D:\\\\Project_H\\\\Examples\\\\Example_1\\\\Inputnew\\\\ore.xml'}, 'name': 'get_ore_report_list', 'type': 'tool_use'}], additional_kwargs={}, response_metadata={'id': 'msg_01E1pnuGTbsBwrTbbiLoYTmu', 'model': 'claude-3-5-haiku-20241022', 'stop_reason': 'tool_use', 'stop_sequence': None, 'usage': {'cache_creation_input_tokens': 0, 'cache_read_input_tokens': 0, 'input_tokens': 751, 'output_tokens': 89}, 'model_name': 'claude-3-5-haiku-20241022'}, id='run-46807cc7-7eb0-40b6-af26-444e03f2dd53-0', tool_calls=[{'name': 'get_ore_report_list', 'args': {'file_path': 'D:\\\\Project_H\\\\Examples\\\\Example_1\\\\Inputnew\\\\ore.xml'}, 'id': 'toolu_0129XNsVnWGGkF8Wk4xZmcoZ', 'type': 'tool_call'}], usage_metadata={'input_tokens': 751, 'output_tokens': 89, 'total_tokens': 840, 'input_token_details': {'cache_read': 0, 'cache_creation': 0}}),\n",
       "  ToolMessage(content='Error getting report list: analyticsManager_ not set yet, call analytics first', name='get_ore_report_list', id='9065ebfe-69e9-401e-96da-199e202d5e6b', tool_call_id='toolu_0129XNsVnWGGkF8Wk4xZmcoZ'),\n",
       "  AIMessage(content='I apologize for the error. It seems that the NPV results might be part of the analytics reports generated during the ORE run. The run was successful, so the NPV calculations should have been processed. \\n\\nThe NPV (Net Present Value) results are typically included in the output files generated by the ORE run. These files are usually located in the same directory as the input file or in a specified output directory. To view the specific NPV results, you would need to:\\n1. Check the output files in the D:\\\\Project_H\\\\Examples\\\\Example_1\\\\Inputnew directory\\n2. Look for files like npv.csv or similar output reports\\n3. Open these files to review the NPV calculations\\n\\nIs there anything specific about the NPV results you would like to know? I can help you interpret the results or guide you to locate the specific output files.', additional_kwargs={}, response_metadata={'id': 'msg_016rvANfgji1gFBTG5aibXsc', 'model': 'claude-3-5-haiku-20241022', 'stop_reason': 'end_turn', 'stop_sequence': None, 'usage': {'cache_creation_input_tokens': 0, 'cache_read_input_tokens': 0, 'input_tokens': 867, 'output_tokens': 193}, 'model_name': 'claude-3-5-haiku-20241022'}, id='run-1106422e-5013-4ac3-9f4f-ffeed5ba056f-0', usage_metadata={'input_tokens': 867, 'output_tokens': 193, 'total_tokens': 1060, 'input_token_details': {'cache_read': 0, 'cache_creation': 0}})]}"
      ]
     },
     "execution_count": 6,
     "metadata": {},
     "output_type": "execute_result"
    }
   ],
   "source": [
    "response"
   ]
  },
  {
   "cell_type": "code",
   "execution_count": null,
   "metadata": {},
   "outputs": [],
   "source": []
  }
 ],
 "metadata": {
  "kernelspec": {
   "display_name": "ore_test",
   "language": "python",
   "name": "python3"
  },
  "language_info": {
   "codemirror_mode": {
    "name": "ipython",
    "version": 3
   },
   "file_extension": ".py",
   "mimetype": "text/x-python",
   "name": "python",
   "nbconvert_exporter": "python",
   "pygments_lexer": "ipython3",
   "version": "3.11.0"
  }
 },
 "nbformat": 4,
 "nbformat_minor": 2
}
